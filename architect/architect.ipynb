{
 "cells": [
  {
   "cell_type": "markdown",
   "id": "1fe98725",
   "metadata": {},
   "source": [
    "The goal of this project is to be able to describe a software project which is comprised of many repos and services.\n",
    "\n",
    "We should be able to describe: \n",
    "- All the details of each Repo or Service\n",
    "- All the relationships between them"
   ]
  },
  {
   "cell_type": "code",
   "execution_count": 1,
   "id": "0b6dbf82",
   "metadata": {},
   "outputs": [],
   "source": [
    "class Graph:\n",
    "    def __init__(self):\n",
    "        self.edges = set()\n",
    "        self.nodes = {}\n",
    "        \n",
    "    def add_edge(self, edge):\n",
    "        self.edges.add(edge)\n",
    "        \n",
    "    def add_node(self, uid, node):\n",
    "        self.nodes[uid] = node"
   ]
  },
  {
   "cell_type": "code",
   "execution_count": 2,
   "id": "8abe3b72",
   "metadata": {},
   "outputs": [],
   "source": [
    "class Node:\n",
    "    def __init__(self, name):\n",
    "        self.name = name\n",
    "        \n",
    "    def __repr__(self):\n",
    "        return f\"{self.__class__.__name__}(name='{self.name}')\"\n",
    "        \n",
    "# class Repo(Node):\n",
    "#     pass\n",
    "\n",
    "# class Infra(Node):\n",
    "#     def __init__(self, name, style):\n",
    "#         super().__init__(name)\n",
    "#         self.style = style\n",
    "\n",
    "class Service(Node):\n",
    "    pass\n",
    "\n"
   ]
  },
  {
   "cell_type": "code",
   "execution_count": 3,
   "id": "64c90d43",
   "metadata": {},
   "outputs": [],
   "source": [
    "class Edge:\n",
    "    def __init__(self, from_node_uid, to_node_uid):\n",
    "        self.from_node_uid = from_node_uid\n",
    "        self.to_node_uid = to_node_uid\n",
    "        self.relationship = None\n",
    "        self.graph = None\n",
    "        \n",
    "        \n",
    "    def _key(self):\n",
    "        return (self.relationship, self.from_node_uid, self.to_node_uid)\n",
    "    \n",
    "    def __hash__(self):\n",
    "        return hash(self._key)\n",
    "    \n",
    "    def __repr__(self):\n",
    "        return f\"{self.__class__.__name__}(from_node_uid='{self.from_node_uid}', to_node_uid='{self.to_node_uid}')\"\n",
    "        \n",
    "    def check_graph(self):\n",
    "        if not self.graph:\n",
    "            raise Exception('Edge is not part of a Graph')\n",
    "        \n",
    "    @property\n",
    "    def from_node(self):\n",
    "        self.check_graph()\n",
    "        return self.graph.nodes[self.from_node_uid]\n",
    "    \n",
    "    @property\n",
    "    def to_node(self):\n",
    "        self.check_graph()\n",
    "        return self.graph.nodes[self.to_node_uid]\n",
    "        \n",
    "        \n",
    "class Calls(Edge):\n",
    "    def __init__(self, caller_uid, called_uid):\n",
    "        super().__init__(from_node_uid=caller_uid, to_node_uid=called_uid)\n",
    "        self.relationship = 'calls'\n",
    "        \n",
    "    @property\n",
    "    def caller(self):\n",
    "        return self.from_node\n",
    "    \n",
    "    @property\n",
    "    def called(self):\n",
    "        self.to_node\n",
    "        \n",
    "        \n",
    "# class Hosts(Edge):\n",
    "#     def __init__(self, infra_uid, service_uid):\n",
    "#         super().__init__(from_node_uid=infra_uid, to_node_uid=service_uid)\n",
    "#         self.relationship = 'hosts'\n",
    "            \n",
    "#     @property\n",
    "#     def infra(self):\n",
    "#         return self.from_node\n",
    "    \n",
    "#     @property\n",
    "#     def service(self):\n",
    "#         return self.to_node\n",
    "    \n",
    "# class Deploys(Edge):\n",
    "#     def __init__(self, service_uid, repo_uid):\n",
    "#         super().__init__(from_node_uid=service_uid, to_node_uid=repo_uid)\n",
    "#         self.relationship = 'deploys'\n",
    "    \n",
    "#     @property\n",
    "#     def service(self):\n",
    "#         return self.from_node\n",
    "    \n",
    "#     @property\n",
    "#     def repo(self):\n",
    "#         return self.to_node"
   ]
  },
  {
   "cell_type": "markdown",
   "id": "7cce1687",
   "metadata": {},
   "source": [
    "So let's make the graph!"
   ]
  },
  {
   "cell_type": "code",
   "execution_count": 4,
   "id": "bf9ded46",
   "metadata": {},
   "outputs": [],
   "source": [
    "G = Graph()\n",
    "\n",
    "nodes = {\n",
    "#     'backend_repo': Repo('Backend'),\n",
    "#     'backend_ec2': Infra('Backend', 'ec2'),\n",
    "    'backend_api': Service('Backend API'),\n",
    "    'websockets': Service('WebSockets'),\n",
    "    'nginx': Service('NginX'),\n",
    "    'route53': Service('Route53'),\n",
    "    'elb': Service('ELB'),\n",
    "    'frontend': Service('Frontend'),\n",
    "    'osrm': Service('OSRM'),\n",
    "    'app': Service('App'),\n",
    "#     'backend_target_group': Infra('Backend', 'Target Group'),  \n",
    "}\n",
    "\n",
    "\n",
    "for uid, node in nodes.items():\n",
    "    G.add_node(uid, node)\n",
    "    \n",
    "    \n",
    "edges = [\n",
    "    Calls('frontend', 'route53'),\n",
    "    Calls('app', 'route53'),\n",
    "    Calls('route53', 'elb'),\n",
    "    Calls('elb', 'backend_api'),\n",
    "    Calls('backend_api', 'websockets'),\n",
    "    Calls('backend_api', 'osrm'),\n",
    "    Calls('websockets', 'frontend'),\n",
    "    \n",
    "    \n",
    "]\n",
    "\n",
    "for edge in edges:\n",
    "    G.add_edge(edge)"
   ]
  },
  {
   "cell_type": "code",
   "execution_count": 5,
   "id": "31b3a537",
   "metadata": {},
   "outputs": [
    {
     "data": {
      "text/plain": [
       "{'backend_api': Service(name='Backend API'),\n",
       " 'websockets': Service(name='WebSockets'),\n",
       " 'nginx': Service(name='NginX'),\n",
       " 'route53': Service(name='Route53'),\n",
       " 'elb': Service(name='ELB'),\n",
       " 'frontend': Service(name='Frontend'),\n",
       " 'osrm': Service(name='OSRM'),\n",
       " 'app': Service(name='App')}"
      ]
     },
     "execution_count": 5,
     "metadata": {},
     "output_type": "execute_result"
    }
   ],
   "source": [
    "G.nodes"
   ]
  },
  {
   "cell_type": "code",
   "execution_count": 6,
   "id": "c6495e6d",
   "metadata": {},
   "outputs": [
    {
     "data": {
      "text/plain": [
       "{Calls(from_node_uid='app', to_node_uid='route53'),\n",
       " Calls(from_node_uid='backend_api', to_node_uid='osrm'),\n",
       " Calls(from_node_uid='backend_api', to_node_uid='websockets'),\n",
       " Calls(from_node_uid='elb', to_node_uid='backend_api'),\n",
       " Calls(from_node_uid='frontend', to_node_uid='route53'),\n",
       " Calls(from_node_uid='route53', to_node_uid='elb'),\n",
       " Calls(from_node_uid='websockets', to_node_uid='frontend')}"
      ]
     },
     "execution_count": 6,
     "metadata": {},
     "output_type": "execute_result"
    }
   ],
   "source": [
    "G.edges"
   ]
  },
  {
   "cell_type": "code",
   "execution_count": null,
   "id": "c48f4943",
   "metadata": {},
   "outputs": [],
   "source": []
  }
 ],
 "metadata": {
  "kernelspec": {
   "display_name": "Python 3",
   "language": "python",
   "name": "python3"
  },
  "language_info": {
   "codemirror_mode": {
    "name": "ipython",
    "version": 3
   },
   "file_extension": ".py",
   "mimetype": "text/x-python",
   "name": "python",
   "nbconvert_exporter": "python",
   "pygments_lexer": "ipython3",
   "version": "3.8.2"
  }
 },
 "nbformat": 4,
 "nbformat_minor": 5
}
