{
 "cells": [
  {
   "cell_type": "markdown",
   "metadata": {},
   "source": [
    "# X First Search\n",
    "I want to implement some basic search algorithms, and then test them on some toy problems.\n",
    "\n",
    "**Goals**\n",
    "1. Readability\n",
    "2. Generality: I want this to be useable for any relevant problem. Will probably need a few callbacks.\n",
    "3. Performance: Important, but comes after the other two.\n",
    "\n",
    "**Looking to implement**\n",
    "- [Breadth First Search](#DFS-and-BFS)\n",
    "- [Depth First Search](#DFS-and-BFS)\n",
    "- [Branch and Bound](#Branch-and-Bound)\n",
    "- Dijkstra [Coming soon...]"
   ]
  },
  {
   "cell_type": "markdown",
   "metadata": {},
   "source": [
    "## DFS and BFS\n",
    "These are basically the same algorithm, but the order you visit the nodes is different.\n",
    "\n",
    "We'll implement a common `search` function, which will be used for both. It will take a container as an argument to determine the node visiting order.\n",
    "\n",
    "I want `search` to be general enough that it can be used for any search problem.  \n",
    "To do this, it will take two callbacks:\n",
    "- a function which `visit`s a  node, including determining if the search has reached its target\n",
    "- a function to `get_children` of a node, so that `search` is decoupled from the graphs' implementation"
   ]
  },
  {
   "cell_type": "code",
   "execution_count": 1,
   "metadata": {},
   "outputs": [],
   "source": [
    "def search(start, visit, get_children, container):\n",
    "    '''\n",
    "    start: first node\n",
    "    visit: when visit(node) is called, it visits it. Only returns a result if the search is finished.\n",
    "    get_children: when get_children(node) is called, it returns and iterable of nodes to add to the container\n",
    "    container: Queue (BFS) or Stack (DFS)\n",
    "    '''\n",
    "    container.put(start)\n",
    "    while not container.empty():\n",
    "        node = container.get()\n",
    "        \n",
    "        if (result := visit(node)) is not None:\n",
    "            return result\n",
    "        \n",
    "        for child in get_children(node):\n",
    "            container.put(child)"
   ]
  },
  {
   "cell_type": "markdown",
   "metadata": {},
   "source": [
    "[![Walruses make people mad](https://media.giphy.com/media/e9MwdstmbYrhC/giphy.gif \"It's my first time, okay!\")](https://youtu.be/6uAvHOKofws?t=240)\n",
    "\n",
    "`search` works by `put`ting each node's children into the container, and then `get`ing them back later in the order you want to `visit` them.\n",
    "\n",
    "**DFS**  \n",
    "visits each node's **children before peers**, so we should always `get` the **last** item `put` into the container. i.e. Last In First Out.  \n",
    "Container should be a [**Stack**](<https://en.wikipedia.org/wiki/Stack_(abstract_data_type)>) \\([queue.LifoQueue](https://docs.python.org/3/library/queue.html#queue.LifoQueue))\n",
    "\n",
    "**BFS**  \n",
    "visits each node's **peers before children**, so we should always `get` the **first** item `put` into the container. i.e. First In First Out  \n",
    "Container should be a [**Queue**](<https://en.wikipedia.org/wiki/Queue_(abstract_data_type)>)\n",
    "\\([queue.Queue](https://docs.python.org/3/library/queue.html#queue.Queue))"
   ]
  },
  {
   "cell_type": "code",
   "execution_count": 2,
   "metadata": {},
   "outputs": [],
   "source": [
    "from queue import Queue, LifoQueue as Stack\n",
    "\n",
    "def dfs(start, visit, get_children):\n",
    "    return search(start, visit, get_children, container=Stack())\n",
    "\n",
    "def bfs(start, visit, get_children):\n",
    "    return search(start, visit, get_children, container=Queue())"
   ]
  },
  {
   "cell_type": "markdown",
   "metadata": {},
   "source": [
    "Okay, seems fairly straightforward so far.\n",
    "\n",
    "## Let's eat!\n",
    "\n",
    "Let's look at an example implementation using the appetizers problem from [XKCD NP-Complete](https://xkcd.com/287/):\n",
    "\n",
    "![NP-Complete](https://imgs.xkcd.com/comics/np_complete.png \"NP-Complete\")\n",
    "\n",
    "This is a [combinatorial optimisation](https://en.wikipedia.org/wiki/Combinatorial_optimization) problem because we want to find _combinations_ of menu items that will sum to the target price.  \n",
    "This is exactly the type of problem that BFS and DFS can solve.  \n",
    "What a coincidence!\n"
   ]
  },
  {
   "cell_type": "code",
   "execution_count": 3,
   "metadata": {},
   "outputs": [],
   "source": [
    "# Set up the problem structure\n",
    "\n",
    "from collections import namedtuple, Counter\n",
    "from decimal import Decimal\n",
    "\n",
    "Item = namedtuple('Item', ('name', 'price'))\n",
    "Node = namedtuple('Node', ('item', 'total', 'prior'))\n",
    "\n",
    "def dollars(val):\n",
    "    '''\n",
    "    Prevents a bunch of floating point errors I was getting.\n",
    "    Keeps all amounts to the nearest cent.\n",
    "    '''\n",
    "    return Decimal(val).quantize(Decimal('0.01')) \n",
    "\n",
    "def read(the_menu):\n",
    "    '''So the_menu can just be a string'''\n",
    "    menu_lines = (\n",
    "        line.strip().split() \n",
    "        for line in the_menu.splitlines()\n",
    "        if line\n",
    "    )\n",
    "    return {Item(name, dollars(price)) for name, price in menu_lines}\n",
    "\n",
    "class Order(Counter):\n",
    "    '''Convenient way to output and display results'''  \n",
    "    @property\n",
    "    def total(self):\n",
    "        return sum(item.price * qty for item, qty in self.items())\n",
    "    \n",
    "    def __repr__(self):\n",
    "        items = '\\n'.join(\n",
    "            f'{qty} x {item.name} @ {item.price} = {qty * item.price}'\n",
    "            for item, qty in self.items()\n",
    "        )\n",
    "        total = f'            Total = {self.total}'\n",
    "        return f'{items}\\n{total}'"
   ]
  },
  {
   "cell_type": "code",
   "execution_count": 4,
   "metadata": {},
   "outputs": [
    {
     "data": {
      "text/plain": [
       "1 x fries @ 2.75 = 2.75\n",
       "1 x sticks @ 4.20 = 4.20\n",
       "1 x wings @ 3.55 = 3.55\n",
       "1 x plate @ 5.80 = 5.80\n",
       "1 x fruit @ 2.15 = 2.15\n",
       "1 x salad @ 3.35 = 3.35\n",
       "            Total = 21.80"
      ]
     },
     "execution_count": 4,
     "metadata": {},
     "output_type": "execute_result"
    }
   ],
   "source": [
    "# Load the data for this specific problem instance\n",
    "\n",
    "menu = read(the_menu='''\n",
    "    fruit 2.15\n",
    "    fries 2.75\n",
    "    salad 3.35\n",
    "    wings 3.55\n",
    "    sticks 4.20\n",
    "    plate 5.80\n",
    "''')\n",
    "\n",
    "\n",
    "# Check that the waiter understands my order\n",
    "\n",
    "ill_have_one_of_everything_thanks = Order(menu)\n",
    "assert ill_have_one_of_everything_thanks.total == dollars(21.80)\n",
    "ill_have_one_of_everything_thanks"
   ]
  },
  {
   "cell_type": "markdown",
   "metadata": {},
   "source": [
    "Let's define the functions we need for this specific search problem:\n",
    "\n",
    "**`get_children`** is interesting for this problem because you do not predifine each Node's children. \n",
    "- At each Node, the children are the whole menu!  \n",
    "- Notice that I create a `Node` from each `Item` so that I can keep track of the total and the previous items bought.\n",
    "\n",
    "**`visit`** is fairly simple - it just checks if we have we have the correct total. \n",
    "- If we do, it returns all the items we visited to get to that total.\n",
    "- I use a [closure](https://en.wikipedia.org/wiki/Closure_(computer_programming)) `visitor` to create the `visit` function because I don't want to hard code the target value, and I can't see a better way to make it available to `visit`"
   ]
  },
  {
   "cell_type": "code",
   "execution_count": 5,
   "metadata": {},
   "outputs": [],
   "source": [
    "def get_children(node):\n",
    "    return {\n",
    "        Node(item=item, total=node.total + item.price, prior=node)\n",
    "        for item in menu\n",
    "    }\n",
    "\n",
    "def get_result(node):\n",
    "    items = [node.item]\n",
    "    while node.prior:\n",
    "        node = node.prior\n",
    "        if node.item:\n",
    "            items.append(node.item)\n",
    "    return Order(items)\n",
    "    \n",
    "def visitor(target):\n",
    "    def visit(node):\n",
    "        if node.total == target:\n",
    "            return get_result(node)\n",
    "    return visit"
   ]
  },
  {
   "cell_type": "code",
   "execution_count": 6,
   "metadata": {},
   "outputs": [
    {
     "data": {
      "text/plain": [
       "1 x fruit @ 2.15 = 2.15\n",
       "2 x wings @ 3.55 = 7.10\n",
       "1 x plate @ 5.80 = 5.80\n",
       "            Total = 15.05"
      ]
     },
     "execution_count": 6,
     "metadata": {},
     "output_type": "execute_result"
    }
   ],
   "source": [
    "# Test BFS\n",
    "target = dollars(15.05)\n",
    "\n",
    "order = bfs(\n",
    "    start=Node(item=None, total=0, prior=None),\n",
    "    visit=visitor(target),\n",
    "    get_children=get_children,\n",
    ")\n",
    "\n",
    "assert order.total == target; order"
   ]
  },
  {
   "cell_type": "markdown",
   "metadata": {},
   "source": [
    "**Problem:**  \n",
    "Since there's no limit on how many appetizers we buy, DFS will run forever since there is no \"deepest\" point.  \n",
    "Maybe there's a way to help it stop?\n",
    "\n",
    "## Branch and Bound\n",
    "**Concept**  \n",
    "Once we have bought appetizers exceeding the target price, there's no point to continue exploring that branch, since no matter how much more you buy, you will never get (back down) to the target.\n",
    "\n",
    "So Branch and Bound is really just a clever way to do (much) less searching. The idea is obvious to a human, but computers don't know unless you tell them!\n",
    "\n",
    "**Implementation**  \n",
    "`search()` is basically the same, but expects `visit()` to raise a `PassedBound` exception if it passes a bound and wishes to stop early.\n",
    "\n",
    "This means it is 100% backwards compatible with the old `search()`, so let's just replace it."
   ]
  },
  {
   "cell_type": "code",
   "execution_count": 7,
   "metadata": {},
   "outputs": [],
   "source": [
    "class PassedBound(Exception):\n",
    "    pass\n",
    "\n",
    "def search(start, visit, get_children, container):\n",
    "    '''\n",
    "    start: first node\n",
    "    visit: when visit(node) is called, it visits it. Only returns a result if the search is finished.\n",
    "            Raises a PassedBound exception to prune a branch if we want Branch and Bound.\n",
    "    get_children: when get_children(node) is called, it returns and iterable of nodes to add to the container\n",
    "    container: Queue (BFS) or Stack (DFS)\n",
    "    '''\n",
    "    container.put(start)\n",
    "    while not container.empty():\n",
    "        node = container.get()\n",
    "        \n",
    "        try:\n",
    "            result = visit(node)\n",
    "        except PassedBound:\n",
    "            # Don't keep exploring this branch\n",
    "            continue\n",
    "            \n",
    "        if result is not None:\n",
    "            return result\n",
    "\n",
    "        for child in get_children(node):\n",
    "            container.put(child)"
   ]
  },
  {
   "cell_type": "code",
   "execution_count": 8,
   "metadata": {},
   "outputs": [],
   "source": [
    "def dfs(start, visit, get_children):\n",
    "    return search(start, visit, get_children, container=Stack())\n",
    "\n",
    "def bfs(start, visit, get_children):\n",
    "    return search(start, visit, get_children, container=Queue())"
   ]
  },
  {
   "cell_type": "markdown",
   "metadata": {},
   "source": [
    "**Update `visit` for Branch and Bound**  \n",
    "To use Branch and Bound in any `search()`, `visit()` just needs to raise a `PassedBound` exception whenever it wants to prune.  \n",
    "For the Appetizers problem, it means we will raise `PassedBound` whenever the total price of the products considered exceeds the target price."
   ]
  },
  {
   "cell_type": "code",
   "execution_count": 9,
   "metadata": {},
   "outputs": [],
   "source": [
    "def visitor(target):\n",
    "    def visit(node):\n",
    "        total = node.total\n",
    "        if total == target:\n",
    "            return get_result(node)\n",
    "        elif total > target:\n",
    "            raise PassedBound()   \n",
    "    return visit"
   ]
  },
  {
   "cell_type": "code",
   "execution_count": 10,
   "metadata": {},
   "outputs": [
    {
     "data": {
      "text/plain": [
       "2 x wings @ 3.55 = 7.10\n",
       "1 x plate @ 5.80 = 5.80\n",
       "1 x fruit @ 2.15 = 2.15\n",
       "            Total = 15.05"
      ]
     },
     "execution_count": 10,
     "metadata": {},
     "output_type": "execute_result"
    }
   ],
   "source": [
    "# Test DFS\n",
    "\n",
    "target = dollars(15.05)\n",
    "\n",
    "order = dfs(\n",
    "    start=Node(item=None, total=0, prior=None),\n",
    "    visit=visitor(target),\n",
    "    get_children=get_children,\n",
    ")\n",
    "\n",
    "assert order.total == target; order"
   ]
  },
  {
   "cell_type": "code",
   "execution_count": 11,
   "metadata": {
    "scrolled": true
   },
   "outputs": [
    {
     "data": {
      "text/plain": [
       "1 x fruit @ 2.15 = 2.15\n",
       "2 x wings @ 3.55 = 7.10\n",
       "1 x plate @ 5.80 = 5.80\n",
       "            Total = 15.05"
      ]
     },
     "execution_count": 11,
     "metadata": {},
     "output_type": "execute_result"
    }
   ],
   "source": [
    "# Test BFS\n",
    "\n",
    "target = dollars(15.05)\n",
    "\n",
    "order = bfs(\n",
    "    start=Node(item=None, total=0, prior=None),\n",
    "    visit=visitor(target),\n",
    "    get_children=get_children,\n",
    ")\n",
    "\n",
    "assert order.total == target; order"
   ]
  },
  {
   "cell_type": "markdown",
   "metadata": {},
   "source": [
    "So far so good :)\n",
    "\n",
    "## Performance"
   ]
  },
  {
   "cell_type": "code",
   "execution_count": 12,
   "metadata": {},
   "outputs": [
    {
     "name": "stdout",
     "output_type": "stream",
     "text": [
      "CPU times: user 1.82 s, sys: 17.1 ms, total: 1.83 s\n",
      "Wall time: 1.84 s\n"
     ]
    },
    {
     "data": {
      "text/plain": [
       "1 x fries @ 2.75 = 2.75\n",
       "2 x salad @ 3.35 = 6.70\n",
       "2 x wings @ 3.55 = 7.10\n",
       "2 x plate @ 5.80 = 11.60\n",
       "            Total = 28.15"
      ]
     },
     "execution_count": 12,
     "metadata": {},
     "output_type": "execute_result"
    }
   ],
   "source": [
    "%%time\n",
    "target = dollars(28.15)\n",
    "\n",
    "order = bfs(\n",
    "    start=Node(item=None, total=0, prior=None),\n",
    "    visit=visitor(target),\n",
    "    get_children=get_children,\n",
    ")\n",
    "\n",
    "assert order.total == target; order"
   ]
  },
  {
   "cell_type": "code",
   "execution_count": 13,
   "metadata": {},
   "outputs": [
    {
     "name": "stdout",
     "output_type": "stream",
     "text": [
      "CPU times: user 2.58 s, sys: 8.62 ms, total: 2.59 s\n",
      "Wall time: 2.6 s\n"
     ]
    },
    {
     "data": {
      "text/plain": [
       "842 x fruit @ 2.15 = 1810.30\n",
       "587 x plate @ 5.80 = 3404.60\n",
       "571 x salad @ 3.35 = 1912.85\n",
       "950 x wings @ 3.55 = 3372.50\n",
       "761 x fries @ 2.75 = 2092.75\n",
       "585 x sticks @ 4.20 = 2457.00\n",
       "            Total = 15050.00"
      ]
     },
     "execution_count": 13,
     "metadata": {},
     "output_type": "execute_result"
    }
   ],
   "source": [
    "%%time\n",
    "target = dollars(15050.00)\n",
    "\n",
    "order = dfs(\n",
    "    start=Node(item=None, total=0, prior=None),\n",
    "    visit=visitor(target),\n",
    "    get_children=get_children,\n",
    ")\n",
    "\n",
    "assert order.total == target; order"
   ]
  },
  {
   "cell_type": "markdown",
   "metadata": {},
   "source": [
    "**BFS**  \n",
    "I ran BFS with quite a few different targets, and the run time was really really variable depending on the target.\n",
    "- As soon as you have more than 6 or 7 items in the order, it takes forever.  \n",
    "- I think it ends up creating a lot of branches before it starts pruning, whereas DFS explores a single branch then prunes, and keeps doing this.\n",
    "\n",
    "**DFS**  \n",
    "DFS seems much better suited to this problem. An order with a few thousand items just takes a few seconds\n",
    "\n",
    "## Shortest Path\n",
    "Coming soon..."
   ]
  }
 ],
 "metadata": {
  "kernelspec": {
   "display_name": "Python 3",
   "language": "python",
   "name": "python3"
  },
  "language_info": {
   "codemirror_mode": {
    "name": "ipython",
    "version": 3
   },
   "file_extension": ".py",
   "mimetype": "text/x-python",
   "name": "python",
   "nbconvert_exporter": "python",
   "pygments_lexer": "ipython3",
   "version": "3.8.0"
  }
 },
 "nbformat": 4,
 "nbformat_minor": 4
}
