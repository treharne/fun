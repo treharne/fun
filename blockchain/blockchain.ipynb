{
 "cells": [
  {
   "cell_type": "markdown",
   "id": "fec41b1f",
   "metadata": {},
   "source": [
    "# All abord the blocktrain\n",
    "## Making a basic blockchain to improve understanding\n",
    "\n",
    "We've all heard about blockchain, we've discussed it, but few really understand it.\n",
    "\n",
    "To make matters worse, we often confuse it with things *built on* blockchains (like Bitcoin and other cryptocurrencies). Furthermoore, when we're talking about blockchains, we really mean **distributed** blockchains, since a blockchain in and of itself is no more useful than any other database.\n",
    "\n",
    "Let's build the simplest possible (useful) blockchain, to make sure we really understand what it is. Then, we'll look to make it distributed.\n",
    "\n",
    "## What the Block?\n",
    "A **Block** is just another data structure (like a list, dict, etc) that holds some data.  \n",
    "It also has \n",
    "- a timestamp, so we know when it was created\n",
    "- a Unique ID so we can know if it's different "
   ]
  },
  {
   "cell_type": "code",
   "execution_count": 1,
   "id": "0fe847ba",
   "metadata": {},
   "outputs": [],
   "source": [
    "from datetime import datetime\n",
    "from uuid import uuid4\n",
    "\n",
    "class Block:\n",
    "    def __init__(self, data):\n",
    "        self.uid = uuid4()\n",
    "        self.timestamp = datetime.now()\n",
    "        self.data = data\n",
    "        \n",
    "    def __repr__(self):\n",
    "        return f'Block({str(self.uid)[:5]}...)'\n",
    "        \n",
    "a_block = Block(data={'balance': 250})"
   ]
  },
  {
   "cell_type": "markdown",
   "id": "9c853256",
   "metadata": {},
   "source": [
    "## The \"chain\" in blockchain\n",
    "\n",
    "A **Blockchain** is just a list (more or less) of Blocks.  \n",
    "There's something special about Blocks in a blockchain though. \n",
    "\n",
    "Each block contains a special value which is a *summary* of the block before it.  \n",
    "And since the previous block also contains a *summary* of the block before, the *summary* in *this* block contains a *summary* of the previous block's *summary*, and so on, creating a chain of blocks.\n",
    "\n",
    "This recursive behaviour continues all the way back to the very first block!\n",
    "\n",
    "## What does this summary look like?\n",
    "\n",
    "One naive way to get a summary could just be to count the number of characters in the data.\n"
   ]
  },
  {
   "cell_type": "code",
   "execution_count": 2,
   "id": "d755f728",
   "metadata": {},
   "outputs": [
    {
     "data": {
      "text/plain": [
       "5"
      ]
     },
     "execution_count": 2,
     "metadata": {},
     "output_type": "execute_result"
    }
   ],
   "source": [
    "def summary(data):\n",
    "    return len(str(data))\n",
    "\n",
    "summary('hello')"
   ]
  },
  {
   "cell_type": "markdown",
   "id": "8ca68a41",
   "metadata": {},
   "source": [
    "We need our summary to always give the same value if we give it the same data"
   ]
  },
  {
   "cell_type": "code",
   "execution_count": 3,
   "id": "f635c3ce",
   "metadata": {},
   "outputs": [
    {
     "name": "stdout",
     "output_type": "stream",
     "text": [
      "True summary('hello') == summary('hello')\n",
      "True summary(10) == summary(10)\n",
      "True summary({'a': 'dict'}) == summary({'a': 'dict'})\n"
     ]
    }
   ],
   "source": [
    "tests = [\n",
    "    \"summary('hello') == summary('hello')\",\n",
    "    \"summary(10) == summary(10)\",\n",
    "    \"summary({'a': 'dict'}) == summary({'a': 'dict'})\"\n",
    "]\n",
    "\n",
    "for test in tests:\n",
    "    print(eval(test), test)"
   ]
  },
  {
   "cell_type": "markdown",
   "id": "7e5fae08",
   "metadata": {},
   "source": [
    "And we also need it to give a different value **most of the time** when the data is changed."
   ]
  },
  {
   "cell_type": "code",
   "execution_count": 4,
   "id": "fa7d94d4",
   "metadata": {},
   "outputs": [
    {
     "name": "stdout",
     "output_type": "stream",
     "text": [
      "True summary('hello') != summary('helloo')\n",
      "False summary('hello') != summary('hullo')\n"
     ]
    }
   ],
   "source": [
    "tests = [\n",
    "    \"summary('hello') != summary('helloo')\",\n",
    "    \"summary('hello') != summary('hullo')\",\n",
    "]\n",
    "\n",
    "for test in tests:\n",
    "    print(eval(test), test)"
   ]
  },
  {
   "cell_type": "markdown",
   "id": "cf634412",
   "metadata": {},
   "source": [
    "OK, so our length counter summary isn't perfect.\n",
    "\n",
    "Let's try something a little more sophisticated... we could somehow convert each character into a value, and then we would be able to detect character changes even when the length doesn't change.\n",
    "\n",
    "We could get its ASCII value (the unique number which represents every character using the ASCII system) using the `ord()` function in python, and then sum those values."
   ]
  },
  {
   "cell_type": "code",
   "execution_count": 5,
   "id": "03f0aa88",
   "metadata": {},
   "outputs": [
    {
     "data": {
      "text/plain": [
       "532"
      ]
     },
     "execution_count": 5,
     "metadata": {},
     "output_type": "execute_result"
    }
   ],
   "source": [
    "def summary(data):\n",
    "    data_string = str(data)\n",
    "    return sum(ord(char) for char in data_string)\n",
    "\n",
    "summary('hello')"
   ]
  },
  {
   "cell_type": "code",
   "execution_count": 6,
   "id": "3e881172",
   "metadata": {},
   "outputs": [
    {
     "name": "stdout",
     "output_type": "stream",
     "text": [
      "True summary('hello') != summary('hullo')\n",
      "False summary('hello') != summary('ehllo')\n"
     ]
    }
   ],
   "source": [
    "tests = [\n",
    "    \"summary('hello') != summary('hullo')\",\n",
    "    \"summary('hello') != summary('ehllo')\",\n",
    "]\n",
    "\n",
    "for test in tests:\n",
    "    print(eval(test), test)"
   ]
  },
  {
   "cell_type": "markdown",
   "id": "77ee9d7a",
   "metadata": {},
   "source": [
    "Better! But still pretty easy to trick.\n",
    "\n",
    "Luckily there are some well known algorithms that make good summaries!"
   ]
  },
  {
   "cell_type": "markdown",
   "id": "67541339",
   "metadata": {},
   "source": [
    "\n",
    "## Hash it out\n",
    "A *summary* that meets these criteria reasonably well is called a **hash** in computing terms. \n",
    "\n",
    "The function used to make a **hash** is called a *hash function*.\n",
    "\n",
    "Python has a hash function built in, so we'll just use that *for now*. "
   ]
  },
  {
   "cell_type": "code",
   "execution_count": 7,
   "id": "11b123a1",
   "metadata": {},
   "outputs": [],
   "source": [
    "import json\n",
    "\n",
    "class Block(Block):  # Inherits from the old Block definition so we don't have to re-define stuff\n",
    "    def __init__(self, data, previous_block):\n",
    "        self.uid = uuid4()\n",
    "        self.timestamp = datetime.now()\n",
    "        self.data = data\n",
    "        self.hash = hash(previous_block)\n",
    "        \n",
    "    # In order for a Python object to be hashable, it must define a __hash__ method\n",
    "    def __hash__(self):\n",
    "        data = json.dumps(self.data) # you can't hash a dictionary, let's make it a string first\n",
    "        attrs = (self.uid, self.timestamp, data, self.hash)\n",
    "        return hash(attrs)\n"
   ]
  },
  {
   "cell_type": "markdown",
   "id": "61979b5c",
   "metadata": {},
   "source": [
    "## Why chain?\n",
    "The whole point of this chain, this summary-of-a-summary back to the start, is to make it harder to **modify** data.\n",
    "\n",
    "> But how does it make it harder to modfy?\n",
    "\n",
    "Because the function we use to make the *summary* is not a secret. Anyone can look at the previous block, use the same function to make a summary, and check if it is equal to the current block's summary value. \n",
    "\n",
    "If it's equal, you know that the data in the previous block hasn't been changed.  \n",
    "And you can perform this process all the way back along a blockchain to verify that none of the data in the blocks have changed.\n",
    "\n"
   ]
  },
  {
   "cell_type": "code",
   "execution_count": 8,
   "id": "ade67320",
   "metadata": {},
   "outputs": [],
   "source": [
    "def chain_is_consistent(chain):\n",
    "    previous_block = chain[0]\n",
    "    for block in chain[1:]:\n",
    "        matches = hash(previous_block) == block.hash\n",
    "        \n",
    "        if not matches:\n",
    "            print(f'hash({previous_block}) does not match {block}.hash')\n",
    "            return False\n",
    "        \n",
    "        previous_block = block\n",
    "        \n",
    "    return True"
   ]
  },
  {
   "cell_type": "code",
   "execution_count": 9,
   "id": "029e0547",
   "metadata": {},
   "outputs": [
    {
     "data": {
      "text/plain": [
       "True"
      ]
     },
     "execution_count": 9,
     "metadata": {},
     "output_type": "execute_result"
    }
   ],
   "source": [
    "block0 = Block(data={'balance': 100}, previous_block=None)\n",
    "block1 = Block(data={'balance': 120}, previous_block=block0)\n",
    "block2 = Block(data={'balance': 135}, previous_block=block1)\n",
    "block3 = Block(data={'balance': 150}, previous_block=block2)\n",
    "\n",
    "chain = [block0, block1, block2, block3]\n",
    "\n",
    "chain_is_consistent(chain)"
   ]
  },
  {
   "cell_type": "markdown",
   "id": "5b4094e0",
   "metadata": {},
   "source": [
    "But what happens if I (e.g. a bad person with access to the database) decide to change the value of one block?"
   ]
  },
  {
   "cell_type": "code",
   "execution_count": 10,
   "id": "4d98e050",
   "metadata": {},
   "outputs": [
    {
     "name": "stdout",
     "output_type": "stream",
     "text": [
      "hash(Block(de4ed...)) does not match Block(b851b...).hash\n"
     ]
    },
    {
     "data": {
      "text/plain": [
       "False"
      ]
     },
     "execution_count": 10,
     "metadata": {},
     "output_type": "execute_result"
    }
   ],
   "source": [
    "block1.data = {'balance': 200}\n",
    "\n",
    "chain_is_consistent(chain)"
   ]
  },
  {
   "cell_type": "markdown",
   "id": "37746892",
   "metadata": {},
   "source": [
    "Great news, we can easily tell that someone has tampered with the blockchain.\n",
    "\n",
    "## Blockchained\n",
    "OK Great, we've made our own simple blockchain.\n",
    "\n",
    "Now let's make it distributed!\n",
    "\n",
    "\n",
    "# Distributed Blockchain\n",
    "Why do we want a distributed blockchain?\n",
    "\n",
    "Well, because our `chain_is_consistent()` function has a bit of a weakness if you run it on only one computer"
   ]
  },
  {
   "cell_type": "code",
   "execution_count": 11,
   "id": "a0a04a9a",
   "metadata": {},
   "outputs": [
    {
     "data": {
      "text/plain": [
       "True"
      ]
     },
     "execution_count": 11,
     "metadata": {},
     "output_type": "execute_result"
    }
   ],
   "source": [
    "block2.hash = hash(block1)\n",
    "block3.hash = hash(block2)\n",
    "\n",
    "chain_is_consistent(chain)"
   ]
  },
  {
   "cell_type": "markdown",
   "id": "874a453b",
   "metadata": {},
   "source": [
    "I, the malicious person with access to the database, can just update all the hashes to make the chain consistent again.\n",
    "\n",
    "## Consensus\n",
    "But if this information was stored across many computers (that I don't have access to), then I wouldn't be able to edit the copies of the blockchain on those other computers.\n",
    "\n",
    "So we could imagine that I have tampered with the blockchain on my computer, but there are 4 other copies of the blockchain on other people's computers that still show the original blockchain.\n",
    "\n",
    "These 5 computers could somehow talk to each other and decide which is the original version.  \n",
    "This is called reaching a **consensus**.\n",
    "\n",
    "There are many different ways to reach a consensus. In a minute we'll explore a basic one.\n",
    "\n",
    "\n",
    "## Decentralisation and Trust\n",
    "\n",
    "Another benefit of having the blockchain copied on to several computers (i.e. decentralised) is that there is no one party that I have to trust.\n",
    "\n",
    "Juxtapose this with your bank. You have to trust your bank to correctly maintain your account balance. A rogue employee with access to the bank's database could edit your balance if they wanted to.\n",
    "With a decentralised blockchain, this can't happen. Therefore, decentralised blockchains are described as \"trustless\" - you don't have to trust a single party to correctly maintain your balance.\n",
    "\n",
    "## Nodes\n",
    "Let's say that each computer that keeps a copy of this blockchain is called a **Node**"
   ]
  },
  {
   "cell_type": "code",
   "execution_count": 12,
   "id": "1c36d18a",
   "metadata": {},
   "outputs": [],
   "source": [
    "class Node:\n",
    "    def __init__(self):\n",
    "        self.uid = uuid4()\n",
    "        self.other_nodes = []\n",
    "        self.chain = []\n",
    "        \n",
    "    def __repr__(self):\n",
    "        return f'Node({str(self.uid)[:5]}...)'"
   ]
  },
  {
   "cell_type": "markdown",
   "id": "de3bd4e9",
   "metadata": {},
   "source": [
    "Each node needs to be aware of the other nodes on the network, so that it knows who it has to reach a consensus with.\n",
    "\n",
    "> Some consensus algorithms don't require each node to be aware of **all** other nodes... but ours does!  \n",
    "\n",
    "So let's find a way to join the network:"
   ]
  },
  {
   "cell_type": "code",
   "execution_count": 13,
   "id": "a886e6cd",
   "metadata": {},
   "outputs": [],
   "source": [
    "class Node(Node):  # Inherits from the old Node definition so we don't have to re-define stuff\n",
    "        \n",
    "    def join_network(self, other):\n",
    "        # copy the other nodes from your peer\n",
    "        self.other_nodes = other.other_nodes[:]\n",
    "        \n",
    "        # but your peer isn't in that list, so add them\n",
    "        self.other_nodes.append(other)\n",
    "        \n",
    "        # now tell all your peers that you've arrived!\n",
    "        for other_node in self.other_nodes:\n",
    "            other_node.add_peer(self)\n",
    "                    \n",
    "    def add_peer(self, other):\n",
    "        # here we can just do this as a method call, since all our\n",
    "        # nodes are are running in the same process in my computer.\n",
    "        # But I'm making this its own method so that we could just\n",
    "        # replace this implementation with an HTTP call for example.\n",
    "        self.other_nodes.append(other)"
   ]
  },
  {
   "cell_type": "markdown",
   "id": "1019b937",
   "metadata": {},
   "source": [
    "Remember, the whole point of distributed blockchain is that it is decentralised. So you *can't* have some central registry of all the nodes in the network. When you join the network, you need to ask just one peer, and then they help you discover the whole network.\n",
    "\n",
    "## What are you syncing about?\n",
    "Nodes need a way to *agree* on what the current state of the blockchain is. This is called reaching a consensus.\n",
    "\n",
    "One type of disagreement that can happen is that one Node is Ahead of another, because it isn't aware of a more recent transaction yet.\n",
    "\n",
    "If one node `is_ahead()` of another, it's safe to just fast forward the node that is behind.\n"
   ]
  },
  {
   "cell_type": "code",
   "execution_count": 14,
   "id": "7f4ed45b",
   "metadata": {},
   "outputs": [],
   "source": [
    "class Node(Node):  # Inherits from the old Node definition so we don't have to re-define stuff\n",
    "    \n",
    "    def join_network(self, other):\n",
    "        self.other_nodes = other.other_nodes[:]\n",
    "        self.other_nodes.append(other)\n",
    "        for other_node in self.other_nodes:\n",
    "            other_node.add_peer(self)\n",
    "            \n",
    "        # after joining the network, first thing we should do is sync!\n",
    "        self.sync()\n",
    "        \n",
    "    def sync(self):\n",
    "        for other_node in self.other_nodes:\n",
    "            self.sync_with(other_node)        \n",
    "            \n",
    "    def sync_with(self, other):\n",
    "\n",
    "        if not self.chain:\n",
    "            # We've just joined the network, let's\n",
    "            # just copy this node's chain.\n",
    "            self.chain = other.chain[:]\n",
    "            \n",
    "        if self.is_synced_with(other):\n",
    "            # nice\n",
    "            return\n",
    "            \n",
    "        elif other.is_ahead(self):\n",
    "            # we need to catch up\n",
    "            self.chain = other.chain[:]\n",
    "            \n",
    "        elif self.is_ahead(other):\n",
    "            # they need to catch up\n",
    "            other.sync_with(self)\n",
    "            \n",
    "        else:  # ???\n",
    "            # Not sure how to handle this yet.\n",
    "            pass\n",
    "            \n",
    "    def is_synced_with(self, other):\n",
    "        return self.chain == other.chain\n",
    "            \n",
    "    def is_ahead_of(self, other):\n",
    "        return other.last_block in self.chain and len(self.chain) > len(other.chain)\n",
    "            \n",
    "    @property\n",
    "    def last_block(self):\n",
    "        return self.chain[-1]\n"
   ]
  },
  {
   "cell_type": "markdown",
   "id": "7e06c5be",
   "metadata": {},
   "source": [
    "\n",
    "However if there is a forked chain, at least one of the nodes needs to have their chain corrected.\n",
    "This could be done many different ways. To keep it simple, we will revert both nodes to the latest common ancester in this case.\n",
    "\n",
    "1. One node is ahead of another, because the other isn't aware of a more recent transaction yet.\n",
    "2. The chain has forked. There is a Block X which is followed by Block Y on one Node, but followed by Block Z on another Node."
   ]
  },
  {
   "cell_type": "code",
   "execution_count": 15,
   "id": "00c11251",
   "metadata": {},
   "outputs": [],
   "source": [
    "class Node(Node):  # Inherits from the old Node definition so we don't have to re-define stuff\n",
    "\n",
    "    def sync_with(self, other):\n",
    "        if not self.chain:\n",
    "            self.chain = other.chain[:]\n",
    "            \n",
    "        elif self.is_synced_with(other):\n",
    "            pass\n",
    "            \n",
    "        elif other.is_ahead_of(self):\n",
    "            self.chain = other.chain[:]\n",
    "            \n",
    "        elif self.is_ahead_of(other):\n",
    "            other.sync_with(self)\n",
    "            \n",
    "        else:  # chains have forked...\n",
    "            # revert both to latest common ancester\n",
    "            lcb_idx = self.latest_common_block_idx(other)\n",
    "            self.chain = self.chain[:lcb_idx]\n",
    "            other.chain = other.chain[:lcb_idx]\n",
    "            print(f'Reverted {self} and {other}')\n",
    "\n",
    "    def latest_common_block_idx(self, other):\n",
    "        for idx, (block, other_block) in enumerate(zip(self.chain, other.chain)):\n",
    "            if block.uid != other_block.uid:\n",
    "                return idx - 1\n",
    "                "
   ]
  },
  {
   "cell_type": "markdown",
   "id": "32c47fa1",
   "metadata": {},
   "source": [
    "So, it's definitely not the best way to handle a fork, but it's a simple way. We simply look for the last block that the two chains have in common, and revert both chains back to it.\n",
    "\n",
    "## Get on board, man.\n",
    "\n",
    "The next thing a node needs to know how to do is create a block from some data it is given."
   ]
  },
  {
   "cell_type": "code",
   "execution_count": 16,
   "id": "ca5471da",
   "metadata": {},
   "outputs": [],
   "source": [
    "class Node(Node):  # Inherits from the old Node definition so we don't have to re-define stuff\n",
    "    def create_block(self, data):\n",
    "        self.sync()\n",
    "        block = Block(data, previous_block=self.last_block)\n",
    "        self.chain.append(block)\n",
    "        self.sync()\n",
    "        return self.last_block == block"
   ]
  },
  {
   "cell_type": "markdown",
   "id": "f2a3156d",
   "metadata": {},
   "source": [
    "Cool. Looks like we can now create a block.\n",
    "\n",
    "Note that we sync:\n",
    "- Before adding the block, to ensure that we have the correct previous_block, and\n",
    "- After adding the block, to ensure that all other nodes are up to date\n",
    "\n",
    "## Test Test Test\n",
    "\n",
    "Let's make the first node, and give it a genesis block"
   ]
  },
  {
   "cell_type": "code",
   "execution_count": 17,
   "id": "7a380a78",
   "metadata": {},
   "outputs": [
    {
     "data": {
      "text/plain": [
       "[Block(6c793...)]"
      ]
     },
     "execution_count": 17,
     "metadata": {},
     "output_type": "execute_result"
    }
   ],
   "source": [
    "genesis_block = Block('genesis', previous_block=None)\n",
    "node1 = Node()\n",
    "node1.chain.append(genesis_block)\n",
    "\n",
    "node1.chain"
   ]
  },
  {
   "cell_type": "markdown",
   "id": "c1af6a70",
   "metadata": {},
   "source": [
    "OK. But we can't say it's a distributed blockchain until there is more than one node!"
   ]
  },
  {
   "cell_type": "code",
   "execution_count": 18,
   "id": "4ef2bdbd",
   "metadata": {},
   "outputs": [
    {
     "data": {
      "text/plain": [
       "[Block(6c793...)]"
      ]
     },
     "execution_count": 18,
     "metadata": {},
     "output_type": "execute_result"
    }
   ],
   "source": [
    "node2 = Node()\n",
    "node2.join_network(node1)\n",
    "\n",
    "assert node1.chain == node2.chain\n",
    "node2.chain"
   ]
  },
  {
   "cell_type": "markdown",
   "id": "376cbf90",
   "metadata": {},
   "source": [
    "It's good to see that we have the genesis node already in the chain on `node2`.\n",
    "\n",
    "How did it get there? Thanks to the `sync()` which is performed when nodes join the network.\n",
    "\n",
    "Let's make a block!"
   ]
  },
  {
   "cell_type": "code",
   "execution_count": 19,
   "id": "b217566b",
   "metadata": {},
   "outputs": [
    {
     "data": {
      "text/plain": [
       "[Block(6c793...), Block(a8782...)]"
      ]
     },
     "execution_count": 19,
     "metadata": {},
     "output_type": "execute_result"
    }
   ],
   "source": [
    "data = {'test': 'data'}\n",
    "created = node1.create_block(data)\n",
    "\n",
    "assert created\n",
    "assert node1.chain == node2.chain\n",
    "node2.chain"
   ]
  },
  {
   "cell_type": "markdown",
   "id": "923f30a9",
   "metadata": {},
   "source": [
    "Great, looks like the block has showed up on both nodes!.\n",
    "\n",
    "Let's make it bigger!"
   ]
  },
  {
   "cell_type": "code",
   "execution_count": 20,
   "id": "56e5a2e2",
   "metadata": {},
   "outputs": [],
   "source": [
    "node3 = Node()\n",
    "node3.join_network(node2)\n",
    "\n",
    "node4 = Node()\n",
    "node4.join_network(node1)\n",
    "\n",
    "node5 = Node()\n",
    "node5.join_network(node3)"
   ]
  },
  {
   "cell_type": "markdown",
   "id": "98246c37",
   "metadata": {},
   "source": [
    "5 Nodes!\n",
    "\n",
    "Notice that they all joined from any other node that's already in the network.\n",
    "\n",
    "Let's make some blocks!"
   ]
  },
  {
   "cell_type": "code",
   "execution_count": 21,
   "id": "1ff1427e",
   "metadata": {},
   "outputs": [
    {
     "data": {
      "text/plain": [
       "[Block(6c793...), Block(a8782...), Block(c516b...)]"
      ]
     },
     "execution_count": 21,
     "metadata": {},
     "output_type": "execute_result"
    }
   ],
   "source": [
    "data2 = {'test': 'more data!'}\n",
    "created = node2.create_block(data2)\n",
    "assert created\n",
    "assert node1.chain == node2.chain == node3.chain == node4.chain == node5.chain\n",
    "node5.chain"
   ]
  },
  {
   "cell_type": "code",
   "execution_count": 22,
   "id": "bf83ffbc",
   "metadata": {},
   "outputs": [
    {
     "data": {
      "text/plain": [
       "[Block(6c793...), Block(a8782...), Block(c516b...), Block(f3677...)]"
      ]
     },
     "execution_count": 22,
     "metadata": {},
     "output_type": "execute_result"
    }
   ],
   "source": [
    "data3 = {'test': 'even more data!!'}\n",
    "created = node1.create_block(data3)\n",
    "assert created\n",
    "assert node1.chain == node2.chain == node3.chain == node4.chain == node5.chain\n",
    "node4.chain"
   ]
  },
  {
   "cell_type": "markdown",
   "id": "eaa57589",
   "metadata": {},
   "source": [
    "## Bad Actors\n",
    "\n",
    "How do we know if someone has manipulated the data?\n",
    "\n",
    "Coming soon..."
   ]
  },
  {
   "cell_type": "markdown",
   "id": "fc6580f6",
   "metadata": {},
   "source": [
    "## Limitations\n",
    "- Scalability (Nodes sync with every other node)\n",
    "- Does not handle forks very well\n",
    "- Doesn't prevent blocks from being manipulated (yet)\n",
    "\n",
    "More coming soon..."
   ]
  }
 ],
 "metadata": {
  "kernelspec": {
   "display_name": "Python 3",
   "language": "python",
   "name": "python3"
  },
  "language_info": {
   "codemirror_mode": {
    "name": "ipython",
    "version": 3
   },
   "file_extension": ".py",
   "mimetype": "text/x-python",
   "name": "python",
   "nbconvert_exporter": "python",
   "pygments_lexer": "ipython3",
   "version": "3.8.2"
  }
 },
 "nbformat": 4,
 "nbformat_minor": 5
}
