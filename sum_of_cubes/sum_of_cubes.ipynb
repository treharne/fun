{
 "cells": [
  {
   "cell_type": "markdown",
   "metadata": {},
   "source": [
    "# Pairs of sums of two cubes\n",
    "Posted by Zak in the problem solving group\n",
    ">Design an algorithm and write code to find all solutions to the equation a^3 + b^3 = c^3 + d^3 where a, b, c, and d are positive integers less than 1000. \n",
    "Ignore solutions of the form x^3 + y^3 = x^3 + y^3 and solutions that are simple permutations of other solutions (swapping left and right hand sides, swapping a and b, swapping c and d). \n",
    "For example, if you were printing all solutions less than 20, you could choose to print only 2^3 + 16^3 = 9^3 + 15^3 and 1^3 + 12^3 = 9^3 + 10^3.\n",
    "\n",
    "## Naive solution\n",
    "So this is an interesting problem, and there's a fairly obvious solution which is where you check every possible combination of a, b, c, d.\n",
    "\n",
    "It sounds inefficient, but let's code it anyway and run it on some small values of n so that we can see what some solutions look like... this might help us find patterns in the solutions to optimise the code."
   ]
  },
  {
   "cell_type": "code",
   "execution_count": 1,
   "metadata": {},
   "outputs": [],
   "source": [
    "def naive_sum_of_cubes(n):\n",
    "    solutions = []  \n",
    "    for a in range(1, n):\n",
    "        for b in range(1, n):\n",
    "            for c in range(1, n):\n",
    "                for d in range(1, n):\n",
    "                    if not a**3 + b**3 == c**3 + d**3:\n",
    "                        # doesn't add up\n",
    "                        continue\n",
    "                    solution = (a, b, c, d)\n",
    "                    solutions.append(solution)\n",
    "    return solutions"
   ]
  },
  {
   "cell_type": "code",
   "execution_count": 2,
   "metadata": {},
   "outputs": [
    {
     "name": "stdout",
     "output_type": "stream",
     "text": [
      "(1, 1, 1, 1)\n",
      "(1, 2, 1, 2)\n",
      "(1, 2, 2, 1)\n",
      "(1, 3, 1, 3)\n",
      "(1, 3, 3, 1)\n",
      "(1, 4, 1, 4)\n",
      "(1, 4, 4, 1)\n",
      "(1, 5, 1, 5)\n",
      "(1, 5, 5, 1)\n",
      "(1, 6, 1, 6)\n",
      "Found 719 solutions\n"
     ]
    }
   ],
   "source": [
    "# Check that the examples from the problem work\n",
    "solutions = naive_sum_of_cubes(20)\n",
    "assert (2, 16, 9, 15) in solutions  # 2^3 + 16^3 = 9^3 + 15^3\n",
    "assert (1, 12, 9, 10) in solutions  # 1^3 + 12^3 = 9^3 + 10^3\n",
    "\n",
    "# Let's see some solutions\n",
    "for solution in solutions[:10]:\n",
    "    print(solution)\n",
    "print(f'Found {len(solutions)} solutions')"
   ]
  },
  {
   "cell_type": "markdown",
   "metadata": {},
   "source": [
    "We have a lot of silly solutions:\n",
    "- **Boring**: `(1, 2, 1, 2)` or `(1, 2, 2, 1)` don't tell us anything interesting\n",
    "- **Permutations**: `(2, 16, 9, 15)` is the same as `(2, 16, 15, 9)` and many others.\n",
    "\n",
    "So lets filter them out:"
   ]
  },
  {
   "cell_type": "code",
   "execution_count": 3,
   "metadata": {},
   "outputs": [],
   "source": [
    "def boring(solution):\n",
    "    a, b, c, d = solution\n",
    "    identity = a == c and b == d           # (1, 2, 1, 2)\n",
    "    flipped_identity = a == d and b == c   # (1, 2, 2, 1)\n",
    "    return identity or flipped_identity\n",
    "\n",
    "def permuted(solution):\n",
    "    a, b, c, d = solution\n",
    "    return {\n",
    "        (a, b, c, d),\n",
    "        (a, b, d, c),\n",
    "        (b, a, c, d),\n",
    "        (b, a, d, c),\n",
    "        (c, d, a, b),\n",
    "        (c, d, b, a),\n",
    "        (d, c, a, b),\n",
    "        (d, c, b, a),\n",
    "    }\n",
    "\n",
    "def contains(solutions, solution):\n",
    "    '''Check if this solution (including its permutations) are in the solutions'''\n",
    "    return any(permutation in solutions for permutation in permuted(solution))\n",
    "\n",
    "def unique(solutions):\n",
    "    # sets are very fast for checking membership because they are\n",
    "    # implemented using a hash\n",
    "    unique_solutions = set()\n",
    "    for solution in solutions:\n",
    "        if not contains(unique_solutions, solution):\n",
    "            unique_solutions.add(solution)\n",
    "    return unique_solutions\n",
    "\n",
    "def interesting(solutions):\n",
    "    return unique(solution for solution in solutions if not boring(solution))\n"
   ]
  },
  {
   "cell_type": "code",
   "execution_count": 4,
   "metadata": {},
   "outputs": [],
   "source": [
    "# Check that the examples from the problem work\n",
    "solutions = interesting(naive_sum_of_cubes(20))\n",
    "assert contains(solutions, (2, 16, 9, 15))   # 2^3 + 16^3 = 9^3 + 15^3\n",
    "assert contains(solutions, (1, 12, 9, 10))   # 1^3 + 12^3 = 9^3 + 10^3\n",
    "assert len(solutions) == 2"
   ]
  },
  {
   "cell_type": "markdown",
   "metadata": {},
   "source": [
    "Nice.\n",
    "But let's see how long it takes..."
   ]
  },
  {
   "cell_type": "code",
   "execution_count": 5,
   "metadata": {
    "scrolled": true
   },
   "outputs": [
    {
     "name": "stdout",
     "output_type": "stream",
     "text": [
      "CPU times: user 6.09 s, sys: 4.52 ms, total: 6.09 s\n",
      "Wall time: 6.09 s\n",
      "Found 12 solutions\n",
      "CPU times: user 1min 42s, sys: 70 µs, total: 1min 42s\n",
      "Wall time: 1min 42s\n",
      "Found 45 solutions\n"
     ]
    }
   ],
   "source": [
    "n = 50\n",
    "%time solutions = interesting(naive_sum_of_cubes(n))\n",
    "print(f'Found {len(solutions)} solutions')\n",
    "\n",
    "n = 100\n",
    "%time solutions = interesting(naive_sum_of_cubes(n))\n",
    "print(f'Found {len(solutions)} solutions')"
   ]
  },
  {
   "cell_type": "markdown",
   "metadata": {},
   "source": [
    "6 secs for n=50  \n",
    "1 min 40 secs for n=100\n",
    "\n",
    "I'm not sure that we're going to make it to 1000!"
   ]
  },
  {
   "cell_type": "markdown",
   "metadata": {},
   "source": [
    "## Ideas for a better approach\n",
    "When I did this, I had some ideas which I thought might help:\n",
    "1. As an over-arching strategy, I want to reduce the number of operations I have to do. I'm thinking that maybe there could be some sort of symmetry or constraints on what a, b, c, d can be so that we can consider far fewer solutions.\n",
    "2. If I have checked `(a, b, c, d)`, I don't need to check `(b, a, c, d)`. This could maybe translate in code to\n",
    "```python\n",
    "for a in range(1, n):\n",
    "    for b in range(1, a):\n",
    "        # do stuff\n",
    "```\n",
    "This point also holds for c and d.  \n",
    "Maybe all the stuff that we filtered out using `unique` above, we could just never look at it in the first place.\n",
    "3. In the solution above, we re-calculate a^3 + b^3 many times. So lets pre-compute all the possible values, and store them in a list\n",
    "4. I noticed that all the solutions are a _sandwhich_. I.e. a < c, d < b . Does this somehow reduce our search space?\n",
    "5. Maybe doing it as a difference of cubes could help? Maybe there's a maths trick in here somewhere with factorisation?\n",
    "```math\n",
    "                                         a^3 + b^3 = c^3 + d^3\n",
    "                             a^3 - c^3 + b^3 - d^3 = 0\n",
    "(a - c)(a^2 + ac + c^2) + (b - d)(b^2 + bd + d^2) = 0\n",
    "```\n",
    "Hmmmm... nothing obvious to me\n",
    "6. I haven't seen any solutions of the form `a == b`. Is it coincidence? If not, is this some kind of property that could be useful for reducing the sample space? Not sure...\n",
    "\n",
    "## Good enough for now...\n",
    "Approaches 1 - 3 above are useful. Approach 4 I think could useful to reduce the search space, but I can't figure out how to implement it. And in the end I decided that approach 5 and wouldn't help, and I think 6 might just be a coincidence.\n",
    "\n",
    "I didn't have any other ideas, so I started implementing approach 2. Originally I thought of approach 3, but thought the speedup would be minimal, so I didn't bother to implement it until Ian was getting competitive about timing! Turns out it helps!\n",
    "\n",
    "Here's 2 and 3:"
   ]
  },
  {
   "cell_type": "code",
   "execution_count": 6,
   "metadata": {},
   "outputs": [],
   "source": [
    "def improved_sum_of_cubes(n):\n",
    "    cube = [i**3 for i in range(n)]\n",
    "    \n",
    "    # pair_to_sum is a map of\n",
    "    # (a, b) -> a^3 + b^3\n",
    "    # so I can just look up the pair to find its cube sum\n",
    "    # instead of calculating the cubes and their sum every time.\n",
    "    pair_to_sum = {\n",
    "        (a, b): cube[a] + cube[b]\n",
    "        for a in range(n)\n",
    "        for b in range(n)\n",
    "    }\n",
    "    # It's kind of interesting that I only make this once, but then I can\n",
    "    # use it for both (a, b) AND for (c, d).\n",
    "    \n",
    "    # lets make solutions a set. \n",
    "    # adding and membership testing is faster than a list,\n",
    "    # order is not important, uniqueness is.\n",
    "    solutions = set()\n",
    "    for a in range(1, n):\n",
    "        for b in range(1, a):\n",
    "            for c in range(1, n):\n",
    "                for d in range(1, c):\n",
    "                    # This double loop (1 -> n, 1 -> a) has the \n",
    "                    # cool property that we always know a > b. \n",
    "                    # Could this be used to sort solutions \n",
    "                    # so we don't get duplicates?\n",
    "                    # Same for c, d.\n",
    "                    \n",
    "                    if not pair_to_sum[(a, b)] == pair_to_sum[(c, d)]:\n",
    "                        # doesn't add up\n",
    "                        continue\n",
    "                        \n",
    "                    solution = (a, b, c, d)                    \n",
    "                    if boring(solution):\n",
    "                        continue\n",
    "                        \n",
    "                    # No need to filter out boring solutions\n",
    "                    # since miniming that range precludes the permutations                \n",
    "                    solution = (a, b, c, d)\n",
    "                    solutions.add(solution)\n",
    "                    \n",
    "    # but we're still creating non-unique ones, so we should filter them\n",
    "    return unique(solutions)"
   ]
  },
  {
   "cell_type": "code",
   "execution_count": 7,
   "metadata": {},
   "outputs": [
    {
     "name": "stdout",
     "output_type": "stream",
     "text": [
      "Found 2 solutions\n"
     ]
    }
   ],
   "source": [
    "# Check that the examples from the problem work\n",
    "solutions = improved_sum_of_cubes(20)\n",
    "assert contains(solutions, (2, 16, 9, 15))   # 2^3 + 16^3 = 9^3 + 15^3\n",
    "assert contains(solutions, (1, 12, 9, 10))   # 1^3 + 12^3 = 9^3 + 10^3\n",
    "assert len(solutions) == 2\n",
    "print(f'Found {len(solutions)} solutions')"
   ]
  },
  {
   "cell_type": "code",
   "execution_count": 8,
   "metadata": {},
   "outputs": [
    {
     "name": "stdout",
     "output_type": "stream",
     "text": [
      "CPU times: user 4.76 s, sys: 0 ns, total: 4.76 s\n",
      "Wall time: 4.76 s\n",
      "Found 45 solutions\n",
      "CPU times: user 1min 28s, sys: 104 ms, total: 1min 28s\n",
      "Wall time: 1min 28s\n",
      "Found 135 solutions\n"
     ]
    }
   ],
   "source": [
    "n = 100\n",
    "%time solutions = improved_sum_of_cubes(n)\n",
    "print(f'Found {len(solutions)} solutions')\n",
    "\n",
    "n = 200\n",
    "%time solutions = improved_sum_of_cubes(n)\n",
    "print(f'Found {len(solutions)} solutions')"
   ]
  },
  {
   "cell_type": "markdown",
   "metadata": {},
   "source": [
    "## But not good enough\n",
    "Wow! Okay so for n=100 we've gone from 1m40s to 5s! 20x speedup!\n",
    "\n",
    "But n=200 still takes 1m30s... so we still need to do better to get to 1000.\n",
    "\n",
    "The problem is that the approaches mentioned above, even if they reduce the search space by a very substantial _linear_ factor, do not reduce the runtime complexity down from O(n^4).\n",
    "\n",
    "\n",
    "## The leap from O(n^4) to O(n^2)\n",
    "\n",
    "So it's kind of interesting that the `pair_to_sum` map which we created in the previous approach\n",
    "is created only once, but then it is used for both `a, b` and ALSO for `c, d` in exactly\n",
    "the same way.\n",
    "\n",
    "So the \"trick\" here is to realise that we don't really need to compare `a, b` against `c, d`.\n",
    "We could just compare `a, b` against themselves.\n",
    "\n",
    "And what we really care about is **whether the sum of their cubes match**. \n",
    "So if instead of looking up from pairs to cubes, we could go the other way somehow, then we could just see if any of those cubed values maps to more than one pair. If it does, we have a solution!\n",
    "\n",
    "So instead of mapping from from  \n",
    "`pair` -> `cube_sum`  \n",
    "as we did in `improved_sum_of_cubes()` let's try to map from  \n",
    "`cube_sum` -> `pairs`"
   ]
  },
  {
   "cell_type": "code",
   "execution_count": 9,
   "metadata": {},
   "outputs": [],
   "source": [
    "from collections import defaultdict\n",
    "from itertools import combinations\n",
    "\n",
    "def unique_pairs_and_sums(n):\n",
    "    '''\n",
    "    Generate unique pairs and their cube sum\n",
    "    \n",
    "    I've chosen to factor out this double loop because:\n",
    "    1) it lets me name the iterable for better self-documenting code\n",
    "    2) it keeps the main logic less nested\n",
    "    3) it let's me prepare iterated values exactly how I want them\n",
    "    Bonus: Less memory\n",
    "    '''\n",
    "    cube = [i**3 for i in range(n)]   # starts at 0 so index lookups work\n",
    "    for a in range(1, n):\n",
    "        for b in range(1, a):\n",
    "            yield (a, b), cube[a] + cube[b]\n",
    "\n",
    "def map_cubes_to_pairs(n):\n",
    "    '''\n",
    "    Build up the cube_to_pairs map\n",
    "    which is a mapping from\n",
    "    a^3 + b^3 -> set((a1, b1), (a2, b2), ...)\n",
    "\n",
    "    So for our n=20 examples:\n",
    "        1^3 + 12^3 = 9^3 + 10^3 \n",
    "        2^3 + 16^3 = 9^3 + 15^3\n",
    "    we would have:\n",
    "        cube_to_pairs = {\n",
    "            2: {(1, 1)},                    If there's only a single pair, it's not a solution\n",
    "            9: {(1, 2)},\n",
    "            ...\n",
    "            1729: {(1, 12), (9, 10)},       Whenever there are multiple pairs, all their\n",
    "            4103: {(2, 16), (9, 15)},       pairwise combinations are solutions.\n",
    "        }\n",
    "    '''\n",
    "    cube_to_pairs = defaultdict(set)\n",
    "    for pair, cube_sum in unique_pairs_and_sums(n):\n",
    "        cube_to_pairs[cube_sum].add(pair)\n",
    "    return cube_to_pairs.values()\n",
    "\n",
    "def pairwise_combinations(same_sum_pairs):\n",
    "    '''\n",
    "    Iterate over the same_sum_pairs\n",
    "    and whenever there is more than 1 pair,\n",
    "    the pairwise combinations of those pairs \n",
    "    are the solutions\n",
    "    '''\n",
    "    return {\n",
    "        (a, b, c, d)\n",
    "        for pairs in same_sum_pairs\n",
    "        for (a, b), (c, d) in combinations(pairs, 2)\n",
    "    }\n",
    "    \n",
    "def sum_of_cubes(n):\n",
    "    '''\n",
    "    Phase 1: Figure out all the pairs of numbers that add to the same cube_sum\n",
    "    Phase 2: Get the pairwise combinations of them --> These are the solutions\n",
    "    '''\n",
    "    same_sum_pairs = map_cubes_to_pairs(n)         # Phase 1\n",
    "    return pairwise_combinations(same_sum_pairs)   # Phase 2"
   ]
  },
  {
   "cell_type": "code",
   "execution_count": 10,
   "metadata": {},
   "outputs": [
    {
     "name": "stdout",
     "output_type": "stream",
     "text": [
      "Found 2 solutions\n"
     ]
    }
   ],
   "source": [
    "# Check that the examples from the problem work\n",
    "solutions = sum_of_cubes(20)\n",
    "assert contains(solutions, (2, 16, 9, 15))   # 2^3 + 16^3 = 9^3 + 15^3\n",
    "assert contains(solutions, (1, 12, 9, 10))   # 1^3 + 12^3 = 9^3 + 10^3\n",
    "assert len(solutions) == 2\n",
    "print(f'Found {len(solutions)} solutions')"
   ]
  },
  {
   "cell_type": "code",
   "execution_count": 11,
   "metadata": {
    "scrolled": true
   },
   "outputs": [
    {
     "name": "stdout",
     "output_type": "stream",
     "text": [
      "CPU times: user 11.6 ms, sys: 0 ns, total: 11.6 ms\n",
      "Wall time: 12.2 ms\n",
      "Found 45 solutions\n",
      "CPU times: user 56.1 ms, sys: 4 µs, total: 56.1 ms\n",
      "Wall time: 56.7 ms\n",
      "Found 135 solutions\n",
      "CPU times: user 1.23 s, sys: 88 ms, total: 1.32 s\n",
      "Wall time: 1.33 s\n",
      "Found 1598 solutions\n"
     ]
    }
   ],
   "source": [
    "n = 100\n",
    "%time solution = sum_of_cubes(n)\n",
    "print(f'Found {len(solution)} solutions')\n",
    "\n",
    "n = 200\n",
    "%time solution = sum_of_cubes(n)\n",
    "print(f'Found {len(solution)} solutions')\n",
    "\n",
    "n = 1000\n",
    "%time solution = sum_of_cubes(n)\n",
    "print(f'Found {len(solution)} solutions')"
   ]
  },
  {
   "cell_type": "markdown",
   "metadata": {},
   "source": [
    "We're 10,000x faster than `interesting(naive_sum_cubes(n))` at `n=100`  \n",
    "and 1,000x faster than `improved_sum_of_cubes(n)` at `n=200`"
   ]
  },
  {
   "cell_type": "markdown",
   "metadata": {},
   "source": [
    "n=1000 in a second?  \n",
    "That'll do."
   ]
  }
 ],
 "metadata": {
  "kernelspec": {
   "display_name": "Python 3",
   "language": "python",
   "name": "python3"
  },
  "language_info": {
   "codemirror_mode": {
    "name": "ipython",
    "version": 3
   },
   "file_extension": ".py",
   "mimetype": "text/x-python",
   "name": "python",
   "nbconvert_exporter": "python",
   "pygments_lexer": "ipython3",
   "version": "3.8.0"
  }
 },
 "nbformat": 4,
 "nbformat_minor": 4
}
