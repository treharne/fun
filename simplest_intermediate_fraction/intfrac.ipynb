{
 "cells": [
  {
   "cell_type": "markdown",
   "id": "089414b9",
   "metadata": {},
   "source": [
    "# Simplest Intermediate Fraction\n",
    "Question found on [Stack Exchange](https://codegolf.stackexchange.com/questions/247654/in-between-fractions)\n",
    "\n",
    "\n",
    "> Given two positive integer fractions $x$ and $y$ such that $x < y$, give the fraction z with the smallest positive integer denominator such that it is between $x$ and $y$.\n",
    ">\n",
    "> For example $x= {2 \\over 5}$ , $y={4 \\over 5}$, the answer is $1 \\over 2$. Other fractions such as $3 \\over 5$ are also in between the two, but $1 \\over 2$ has a denominator of $2$ which is smaller.\n",
    ">\n",
    "> As input you will receive 4 positive integers, the numerators and the denominators of $x$ and $y$, you may assume these fractions are fully reduced. You should output the numerator and the denominator of $z$.\n",
    ">\n",
    "> If there are multiple valid numerators, you may output any or all of them.\n",
    "\n",
    "## Test cases\n",
    "$2 \\over 5$ and $4 \\over 5$ --> $1 \\over 2$  \n",
    "  \n",
    "$1 \\over 1$ and $2 \\over 1$ --> $3 \\over 2$  \n",
    "\n",
    "$3 \\over 5$ and $1 \\over 1$ -> $2 \\over 3$  \n",
    "  \n",
    "$5 \\over 13$ and $7 \\over 18$ -> $12 \\over 31$  \n",
    "  \n",
    "$12 \\over 31$ and $7 \\over 18$ -> $19  \\over 49$  "
   ]
  },
  {
   "cell_type": "markdown",
   "id": "24f3100b",
   "metadata": {},
   "source": [
    "## The obvious way:\n",
    "- Counting up from 1 through possible denominators\n",
    "-   Count up from 0 through possible numerators as long as the candidate fraction is less than y\n",
    "-   If your candidate is larger than y -> go to the next denominator"
   ]
  },
  {
   "cell_type": "code",
   "execution_count": 1,
   "id": "7148176b",
   "metadata": {},
   "outputs": [],
   "source": [
    "def gen_fractions(limit):\n",
    "    num, denom = 0, 1\n",
    "    while True:\n",
    "        if num / denom < limit:\n",
    "            num += 1\n",
    "        else:\n",
    "            num = 0\n",
    "            denom += 1\n",
    "        yield num, denom\n",
    "\n",
    "def min_int_denom_between(x_num, x_denom, y_num, y_denom):\n",
    "    print(f\"\\nLooking for simplest fraction between {x_num}/{x_denom} and {y_num}/{y_denom}\")\n",
    "    x = x_num / x_denom\n",
    "    y = y_num / y_denom\n",
    "    \n",
    "    iterations = 0\n",
    "    for num, denom in gen_fractions(limit=y):\n",
    "        iterations += 1\n",
    "        if x < num / denom < y:\n",
    "            print(f\"Found {num}/{denom}. Took {iterations} iterations\")\n",
    "            return num, denom\n"
   ]
  },
  {
   "cell_type": "code",
   "execution_count": 2,
   "id": "d8d4f653",
   "metadata": {},
   "outputs": [
    {
     "name": "stdout",
     "output_type": "stream",
     "text": [
      "\n",
      "Looking for simplest fraction between 2/5 and 4/5\n",
      "Found 1/2. Took 3 iterations\n",
      "\n",
      "Looking for simplest fraction between 1/1 and 2/1\n",
      "Found 3/2. Took 6 iterations\n",
      "\n",
      "Looking for simplest fraction between 5/13 and 7/18\n",
      "Found 12/31. Took 237 iterations\n",
      "\n",
      "Looking for simplest fraction between 12/31 and 7/18\n",
      "Found 19/49. Took 547 iterations\n"
     ]
    }
   ],
   "source": [
    "assert min_int_denom_between(2, 5, 4, 5) == (1, 2)\n",
    "assert min_int_denom_between(1, 1, 2, 1) == (3, 2)\n",
    "assert min_int_denom_between(5, 13, 7, 18) == (12, 31)\n",
    "assert min_int_denom_between(12, 31, 7, 18) == (19, 49)"
   ]
  },
  {
   "cell_type": "markdown",
   "id": "64665fe8",
   "metadata": {},
   "source": [
    "## A better way\n",
    "I kept thinking there must be a better way to do this, but it wasn't immediately obvious to me.\n",
    "\n",
    "After revisiting this problem a month later (because I am learning Rust and thought it was a good problem to learn a new programming langauge), the idea that you could re-write any fraction with a different denominator popped in to my head.\n",
    "\n",
    "For example, $ 2 \\over 5 $ can be rewritten with a denominator of $6$:\n",
    "\n",
    "$6*(2/5) \\over 6$\n",
    "\n",
    "This means that I could rewrite $x$ and $y$ with any denominator I want, and I just have to check if there are any integers between their numerators"
   ]
  },
  {
   "cell_type": "code",
   "execution_count": 3,
   "id": "1004232f",
   "metadata": {},
   "outputs": [],
   "source": [
    "def min_int_denom_between(x_num, x_denom, y_num, y_denom):\n",
    "    print(f\"\\nLooking for simplest fraction between {x_num}/{x_denom} and {y_num}/{y_denom}\")\n",
    "    x = x_num / x_denom\n",
    "    y = y_num / y_denom\n",
    "\n",
    "    iterations = 0\n",
    "    denom = 1\n",
    "    while True:\n",
    "        iterations += 1\n",
    "        \n",
    "        x_equiv_num = x * denom\n",
    "        y_equiv_num = y * denom\n",
    "        \n",
    "        num = int(x_equiv_num) + 1\n",
    "        \n",
    "        if x_equiv_num < num < y_equiv_num:\n",
    "            print(f\"Found {num}/{denom}. Took {iterations} iterations\")\n",
    "            return num, denom\n",
    "        \n",
    "        denom += 1\n"
   ]
  },
  {
   "cell_type": "code",
   "execution_count": 4,
   "id": "3047b9c0",
   "metadata": {
    "scrolled": true
   },
   "outputs": [
    {
     "name": "stdout",
     "output_type": "stream",
     "text": [
      "\n",
      "Looking for simplest fraction between 2/5 and 4/5\n",
      "Found 1/2. Took 2 iterations\n",
      "\n",
      "Looking for simplest fraction between 1/1 and 2/1\n",
      "Found 3/2. Took 2 iterations\n",
      "\n",
      "Looking for simplest fraction between 5/13 and 7/18\n",
      "Found 12/31. Took 31 iterations\n",
      "\n",
      "Looking for simplest fraction between 12/31 and 7/18\n",
      "Found 19/49. Took 49 iterations\n"
     ]
    }
   ],
   "source": [
    "assert min_int_denom_between(2, 5, 4, 5) == (1, 2)\n",
    "assert min_int_denom_between(1, 1, 2, 1) == (3, 2)\n",
    "assert min_int_denom_between(5, 13, 7, 18) == (12, 31)\n",
    "assert min_int_denom_between(12, 31, 7, 18) == (19, 49)"
   ]
  },
  {
   "cell_type": "markdown",
   "id": "e3fe6ddd",
   "metadata": {},
   "source": [
    "Far fewer iterations. \n",
    "\n",
    "Much better :)"
   ]
  }
 ],
 "metadata": {
  "kernelspec": {
   "display_name": "Python 3 (ipykernel)",
   "language": "python",
   "name": "python3"
  },
  "language_info": {
   "codemirror_mode": {
    "name": "ipython",
    "version": 3
   },
   "file_extension": ".py",
   "mimetype": "text/x-python",
   "name": "python",
   "nbconvert_exporter": "python",
   "pygments_lexer": "ipython3",
   "version": "3.10.4"
  }
 },
 "nbformat": 4,
 "nbformat_minor": 5
}
