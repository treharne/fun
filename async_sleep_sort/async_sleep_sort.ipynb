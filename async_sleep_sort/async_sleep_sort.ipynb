{
 "cells": [
  {
   "cell_type": "markdown",
   "id": "9088e637",
   "metadata": {},
   "source": [
    "# Exploring Async in Python with SleepSort\n",
    "\n",
    "In our SaaS product, we often need to geocode hundreds of addresses uploaded from and Excel file by our users while they wait.\n",
    "\n",
    "This taks a long time if done synchronously because of network round-trips. Therefore, we want it to be concurrent.\n",
    "\n",
    "Currently we do it in threads, which is pretty straight forward using [ThreadPoolExecutor](https://docs.python.org/3/library/concurrent.futures.html#concurrent.futures.ThreadPoolExecutor). However\n",
    "1. Our web framework (gunicorn) is already threading, so it's harder to keep track of total threads\n",
    "2. Async has less overhead than threads\n",
    "*... but really I just want to learn async better!*\n",
    "\n",
    "\n",
    "So, to get familiar with async with simpler-than-geocoding usecase, I decided to look at SleepSort"
   ]
  },
  {
   "cell_type": "markdown",
   "id": "fec10118",
   "metadata": {},
   "source": [
    "## SleepSort\n",
    "SleepSort is a joke sorting algorithm that became popular thanks to [a 4chan post in 2011](https://web.archive.org/web/20151231221001/http://bl0ckeduser.github.io/sleepsort/sleep_sort_trimmed.html)\n",
    "\n",
    "It works by sleeping for an amount of time which is the value of each item in the original list, then printing it."
   ]
  },
  {
   "cell_type": "code",
   "execution_count": 1,
   "id": "c093cb3a",
   "metadata": {},
   "outputs": [],
   "source": [
    "import asyncio\n",
    "\n",
    "async def sleep_then_print(val):\n",
    "    '''Gets called on every item in the list we want to sort'''\n",
    "    await asyncio.sleep(val)\n",
    "    print(val)  # Print only to demonstrate how SleepSort works\n",
    "    return val"
   ]
  },
  {
   "cell_type": "markdown",
   "id": "11c241c6",
   "metadata": {},
   "source": [
    "Pretty straightforward so far.\n",
    "\n",
    "\n",
    "`sleep_then_print` is called on **each item** and:\n",
    "1. Sleeps for the amount of time that **is** the value\n",
    "2. Returns the value\n",
    "\n",
    "\n",
    "To kick off `sleep_then_print` for each element, we're going to call `start_sleeping`:"
   ]
  },
  {
   "cell_type": "code",
   "execution_count": 2,
   "id": "d6520630",
   "metadata": {},
   "outputs": [],
   "source": [
    "async def start_sleeping(collection):\n",
    "    '''Kick off each sleep_then_print task (but don't wait for it to finish)'''\n",
    "    return [\n",
    "        asyncio.create_task(sleep_then_print(val))\n",
    "        for val in collection\n",
    "    ]"
   ]
  },
  {
   "cell_type": "markdown",
   "id": "d2b1c6ce",
   "metadata": {},
   "source": [
    "\n",
    "Note:\n",
    "1. **`create_task` starts a task**  \n",
    "   Calling `asyncio.create_task` starts running a coroutine. But it doesn't wait for it to finish.  \n",
    "\n",
    "\n",
    "2. **You can call your async function directly**  \n",
    "   When working with threads, we would make our threads using something like\n",
    "```python\n",
    "Thread(target=sleep_then_print, args=(val, ))\n",
    "```\n",
    "We have to split the function and its arguments because we don't want to actually invoke our function yet.\n",
    "\n",
    "   In Async, this doesn't apply. Since Python knows your function is async, calling it makes a coroutine object instead of actually invoking the function, so \n",
    "```python\n",
    "asyncio.create_task(sleep_then_print(val))\n",
    "```\n",
    "works.\n",
    "\n",
    "\n",
    "3. **Don't `await` `create_task`**  \n",
    "   It's tempting to write\n",
    "   ```python\n",
    "await asyncio.create_task(sleep_then_print(val))\n",
    "```\n",
    "   but this would wait for each task to complete before starting the next task, therefore making our sleeps run consecutively instead of in parallel.  \n",
    "We don't want that!\n"
   ]
  },
  {
   "cell_type": "code",
   "execution_count": 3,
   "id": "10c51b70",
   "metadata": {},
   "outputs": [],
   "source": [
    "async def async_sleep_sort(collection):\n",
    "    '''You'll pass your list to this function when you want to sort it'''\n",
    "    tasks = await start_sleeping(collection)\n",
    "    \n",
    "    return [\n",
    "        await task\n",
    "        for task in asyncio.as_completed(tasks)\n",
    "    ]"
   ]
  },
  {
   "cell_type": "markdown",
   "id": "c74e1bea",
   "metadata": {},
   "source": [
    "A few interesting things:\n",
    "\n",
    "1. **`await task` waits for a task to finish**  \n",
    "   This is the async equivalent of `thread.join()`.\n",
    "\n",
    "\n",
    "2. **`asyncio.as_completed` makes it all work**  \n",
    "   If we returned \n",
    "   ```python\n",
    "[await task for task in tasks]\n",
    "```\n",
    " we would get the elements back in the order they started in.\n",
    "   \n",
    "   `asyncio.as_completed` is a fundamental part of SleepSort since SleepSort relies on functions completing in sorted order\n",
    "\n",
    "\n",
    "So let's check if it works!"
   ]
  },
  {
   "cell_type": "code",
   "execution_count": 4,
   "id": "9b218010",
   "metadata": {},
   "outputs": [
    {
     "name": "stdout",
     "output_type": "stream",
     "text": [
      "1\n",
      "2\n",
      "3\n",
      "4\n",
      "5\n"
     ]
    },
    {
     "data": {
      "text/plain": [
       "[1, 2, 3, 4, 5]"
      ]
     },
     "execution_count": 4,
     "metadata": {},
     "output_type": "execute_result"
    }
   ],
   "source": [
    "collection = [3, 2, 5, 4, 1]\n",
    "sorted_collection = await async_sleep_sort(collection)\n",
    "sorted_collection"
   ]
  },
  {
   "cell_type": "markdown",
   "id": "7b0ebfe5",
   "metadata": {},
   "source": [
    "Woohooo!\n",
    "\n",
    "Some points to note:\n",
    "1. The value **1** is printed after 1 second. The value **2** is printed after 2 seconds. Etc.  \n",
    "You're seeing SleepSort in action!\n",
    "\n",
    "\n",
    "2. However, `async_sleep_sort` *returns* all the values only after the sort has completed. More on this later.\n",
    "\n",
    "\n",
    "3. Usually to run async code, we would call  our coroutine like this:\n",
    "```python\n",
    "sorted_collection = asyncio.run(async_sleep_sort(collection))\n",
    "```\n",
    "It doesn't work here because this Jupyter notebook is [already running an asyncio event loop](https://stackoverflow.com/questions/47518874/how-do-i-run-python-asyncio-code-in-a-jupyter-notebook), so I just `await`ed the function instead."
   ]
  },
  {
   "cell_type": "markdown",
   "id": "4d0ac553",
   "metadata": {},
   "source": [
    "## The SleepSort Generator\n",
    "\n",
    "\n",
    "To prevent our users from having the feeling of waiting while we geocode their job, our backend *streams* geocoded addresses to the frontend **as soon as each geocode is completed.** \n",
    "\n",
    "This lets the frontend loads them progressively on the map, all within a single request to the backend.\n",
    "\n",
    "To make this work in our web framework, we need to [provide a generator](https://dev.to/rhymes/comment/2inm) to [response.stream](https://falcon.readthedocs.io/en/stable/api/request_and_response_wsgi.html#falcon.Request.stream). Calling `next()` on the generator needs to `yield` the next geocoded location, as soon as it is ready.\n",
    "\n",
    "So let's see if we can make our async SleepSort function return our sorted items one by one as soon as their *sleep* is over."
   ]
  },
  {
   "cell_type": "code",
   "execution_count": 5,
   "id": "2aff06db",
   "metadata": {},
   "outputs": [],
   "source": [
    "async def async_sleep_sort_yield(collection):\n",
    "    tasks = await start_sleeping(collection)\n",
    "    \n",
    "    # Let's try to yield the values as we get them.\n",
    "    for task in asyncio.as_completed(tasks):\n",
    "        yield await task\n",
    "        \n",
    "sleep_sort_generator = async_sleep_sort_yield(collection)"
   ]
  },
  {
   "cell_type": "markdown",
   "id": "c5e9bfbd",
   "metadata": {},
   "source": [
    "That's how you normally make a generator, right?"
   ]
  },
  {
   "cell_type": "code",
   "execution_count": 6,
   "id": "e535386f",
   "metadata": {},
   "outputs": [
    {
     "data": {
      "text/plain": [
       "async_generator"
      ]
     },
     "execution_count": 6,
     "metadata": {},
     "output_type": "execute_result"
    }
   ],
   "source": [
    "type(sleep_sort_generator)"
   ]
  },
  {
   "cell_type": "markdown",
   "id": "268996cb",
   "metadata": {},
   "source": [
    "Interesting. We've got an `async_generator`, not a normal generator.  \n",
    "Does it work the same?"
   ]
  },
  {
   "cell_type": "code",
   "execution_count": 7,
   "id": "77955a24",
   "metadata": {},
   "outputs": [
    {
     "ename": "TypeError",
     "evalue": "'async_generator' object is not an iterator",
     "output_type": "error",
     "traceback": [
      "\u001b[0;31m---------------------------------------------------------------------------\u001b[0m",
      "\u001b[0;31mTypeError\u001b[0m                                 Traceback (most recent call last)",
      "\u001b[0;32m<ipython-input-7-5a7c0637ba9a>\u001b[0m in \u001b[0;36m<module>\u001b[0;34m\u001b[0m\n\u001b[0;32m----> 1\u001b[0;31m \u001b[0mnext\u001b[0m\u001b[0;34m(\u001b[0m\u001b[0msleep_sort_generator\u001b[0m\u001b[0;34m)\u001b[0m\u001b[0;34m\u001b[0m\u001b[0;34m\u001b[0m\u001b[0m\n\u001b[0m",
      "\u001b[0;31mTypeError\u001b[0m: 'async_generator' object is not an iterator"
     ]
    }
   ],
   "source": [
    "next(sleep_sort_generator)"
   ]
  },
  {
   "cell_type": "markdown",
   "id": "b90e0c13",
   "metadata": {},
   "source": [
    "Clearly not.  \n",
    "What if we remove the `await`? Will that let us make a *sync* `generator` instead??"
   ]
  },
  {
   "cell_type": "code",
   "execution_count": 8,
   "id": "445276fc",
   "metadata": {},
   "outputs": [
    {
     "ename": "TypeError",
     "evalue": "'async_generator' object is not an iterator",
     "output_type": "error",
     "traceback": [
      "\u001b[0;31m---------------------------------------------------------------------------\u001b[0m",
      "\u001b[0;31mTypeError\u001b[0m                                 Traceback (most recent call last)",
      "\u001b[0;32m<ipython-input-8-f5888d093a21>\u001b[0m in \u001b[0;36m<module>\u001b[0;34m\u001b[0m\n\u001b[1;32m      7\u001b[0m \u001b[0;34m\u001b[0m\u001b[0m\n\u001b[1;32m      8\u001b[0m \u001b[0msleep_sort_generator\u001b[0m \u001b[0;34m=\u001b[0m \u001b[0masync_sleep_sort_yield\u001b[0m\u001b[0;34m(\u001b[0m\u001b[0mcollection\u001b[0m\u001b[0;34m)\u001b[0m\u001b[0;34m\u001b[0m\u001b[0;34m\u001b[0m\u001b[0m\n\u001b[0;32m----> 9\u001b[0;31m \u001b[0mnext\u001b[0m\u001b[0;34m(\u001b[0m\u001b[0msleep_sort_generator\u001b[0m\u001b[0;34m)\u001b[0m\u001b[0;34m\u001b[0m\u001b[0;34m\u001b[0m\u001b[0m\n\u001b[0m",
      "\u001b[0;31mTypeError\u001b[0m: 'async_generator' object is not an iterator"
     ]
    }
   ],
   "source": [
    "async def async_sleep_sort_yield(collection):\n",
    "    tasks = await start_sleeping(collection)\n",
    "    \n",
    "    for task in asyncio.as_completed(tasks):\n",
    "        # yield await task\n",
    "        yield task\n",
    "        \n",
    "sleep_sort_generator = async_sleep_sort_yield(collection)\n",
    "next(sleep_sort_generator)"
   ]
  },
  {
   "cell_type": "markdown",
   "id": "2e13804b",
   "metadata": {},
   "source": [
    "Still no.  \n",
    "However, we need to make a real generator so we can stream it using our backend framework.\n",
    "\n",
    "It's kind of weird though.  \n",
    "Why **isn't** an `async_generator` an iterator? Why can't I just loop over it or call `next` on it?"
   ]
  },
  {
   "cell_type": "markdown",
   "id": "08dfe56f",
   "metadata": {},
   "source": [
    "## Two Worlds\n",
    "\n",
    "People often talk about the *synchronous world* and the *asynchronous world*, and how they don't really interact.\n",
    "\n",
    "\n",
    "You (mostly) can't call synchronous functions in the *async world* because they *block*.  \n",
    "That is, they don't give up control, and therefore don't allow any other async functions to run concurrently.\n",
    "\n",
    "\n",
    "Conversely, you can't call async functions in the *synchronous world* because they need an *async event loop* running in order to work.  \n",
    "- You *can* run an event loop and then run them, using `asyncio.run(my_async_function())`  \n",
    "- However, running an event loop **is a synchronous function**, so it *blocks*, and means that you can't run any other synchronous functions at the same time.\n",
    "\n",
    "For the specific case of using an `async_generator` like a normal generator, I [learnt from StackOverflow](https://stackoverflow.com/questions/42448664/async-generator-is-not-an-iterator) that:\n",
    "\n",
    "1. **You kind-of can with `async for`**  \n",
    "   Using an `async for` loop instead of a `for` loop works as expected, except that...\n",
    "\n",
    "\n",
    "2. **`async_generator`s require the async event loop to be running**  \n",
    "   just like all async functionality in Python.  \n",
    "   This means that, if my `async_generator` is created as part of an async event loop, I can't then use it after that loop ends.\n",
    "\n",
    "   As a result, the core devs have intentionally kept these syntactically different in order for this not to surprise people, and in accordance with Tim Peter's advice that \"explicit is better than implicit\".\n",
    "\n",
    "This is very relevant to our usecase, since our web framework is not async.  \n",
    "Therefore, it can't stream an http response while an event loop is running.\n",
    "\n",
    "At least not in the same thread...\n",
    "\n",
    "\n",
    "## The Threaded SleepSort Generator\n",
    "I really wanted to make this work. So I wondered if I could have the async event loop running in a thread in the background, then somehow feed the values back into the synchronous world so I could then `yield` them back *as they are completed*.\n",
    "\n",
    "Let's see what we can do."
   ]
  },
  {
   "cell_type": "markdown",
   "id": "b6a2bee5",
   "metadata": {},
   "source": [
    "First, let's make a context manager that will help us run our function in a thread."
   ]
  },
  {
   "cell_type": "code",
   "execution_count": 9,
   "id": "aec4aac6",
   "metadata": {},
   "outputs": [],
   "source": [
    "from threading import Thread\n",
    "from contextlib import contextmanager\n",
    "\n",
    "@contextmanager\n",
    "def new_thread(*args, **kwargs):\n",
    "    t = Thread(*args, **kwargs)\n",
    "    t.start()\n",
    "    try:\n",
    "        yield\n",
    "    finally:\n",
    "        t.join()\n",
    "        "
   ]
  },
  {
   "cell_type": "markdown",
   "id": "d16f9299",
   "metadata": {},
   "source": [
    "It just makes a thread and guarantees we clean up our thread after it is done.  \n",
    "You can use it like:"
   ]
  },
  {
   "cell_type": "code",
   "execution_count": 10,
   "id": "8e7b1293",
   "metadata": {},
   "outputs": [
    {
     "name": "stdout",
     "output_type": "stream",
     "text": [
      "print from new thread\n",
      "print from main thread\n"
     ]
    }
   ],
   "source": [
    "with new_thread(target=print, args=('print from new thread', )):\n",
    "    print('print from main thread')\n",
    "    "
   ]
  },
  {
   "cell_type": "markdown",
   "id": "c035965a",
   "metadata": {},
   "source": [
    "Or a more relevant example:"
   ]
  },
  {
   "cell_type": "code",
   "execution_count": 11,
   "id": "6a916ecd",
   "metadata": {
    "scrolled": true
   },
   "outputs": [
    {
     "name": "stdout",
     "output_type": "stream",
     "text": [
      "1\n",
      "2\n",
      "Sleep sort is running in a new thread, and could be sending values to us here in the main thread and at the same time, the main thread could be passing those values on to the API caller\n",
      "3\n",
      "4\n",
      "5\n"
     ]
    }
   ],
   "source": [
    "import time\n",
    "\n",
    "coroutine = async_sleep_sort(collection)   # doesn't call async_sleep_sort... just builds a coroutine.\n",
    "\n",
    "with new_thread(target=asyncio.run, args=(coroutine, )):\n",
    "    time.sleep(2.5)\n",
    "    print('Sleep sort is running in a new thread, and could be sending values to us here in the main thread '\n",
    "          'and at the same time, the main thread could be passing those values on to the API caller')"
   ]
  },
  {
   "cell_type": "markdown",
   "id": "1fc0138c",
   "metadata": {},
   "source": [
    "> If you're wondering why we can use `asyncio.run` here, yet we couldn't before, it's because we're running a **new** async event loop in the new thread."
   ]
  },
  {
   "cell_type": "markdown",
   "id": "008b3dac",
   "metadata": {},
   "source": [
    "So, yeah, we're still using threads in the end for our geocoder.  \n",
    "But at least we're only going to create one new thread instead of creating 20 (or however many workers we set in the `ThreadPoolExecutor`).\n",
    "\n",
    "So now let's make our generator! "
   ]
  },
  {
   "cell_type": "code",
   "execution_count": 12,
   "id": "c142c36a",
   "metadata": {},
   "outputs": [
    {
     "name": "stdout",
     "output_type": "stream",
     "text": [
      "????\n",
      "????\n",
      "????\n",
      "????\n",
      "????\n",
      "1\n",
      "2\n",
      "3\n",
      "4\n",
      "5\n"
     ]
    }
   ],
   "source": [
    "def sleep_sort(collection):\n",
    "    coroutine = async_sleep_sort(collection)\n",
    "    with new_thread(target=asyncio.run, args=(coroutine, )):\n",
    "        for _ in collection:\n",
    "            yield '????'       # ummmmmmm.... what do we yield?\n",
    "            \n",
    "gen = sleep_sort(collection)\n",
    "for val in gen:\n",
    "    print(val)"
   ]
  },
  {
   "cell_type": "markdown",
   "id": "c172e265",
   "metadata": {},
   "source": [
    "Huh.\n",
    "\n",
    "We have made a generator that can yield values while `async_sleep_sort` is running in a different thread.\n",
    "\n",
    "But now... somehow we have to get the values back from that other thread into the main thread.  \n",
    "*And* we need to get them as they are returned (not all at once at the end).\n",
    "\n",
    "## The Threaded SleepSort Generator with Queue\n",
    "\n",
    "> The `queue` module is ... especially useful in threaded programming when information must be exchanged safely between multiple threads.  \n",
    "\n",
    "\\- The [Python Docs on Queues](https://docs.python.org/3/library/queue.html)\n",
    "\n",
    "Sounds good to me.\n",
    "\n",
    "Maybe we could:\n",
    "1. Add values to a queue in `async_sleep_sort` while it's running in the thread\n",
    "2. Yield values back from that queue in our synchronous `sleep_sort` generator\n",
    "\n",
    "So let's do it."
   ]
  },
  {
   "cell_type": "code",
   "execution_count": 13,
   "id": "38b02564",
   "metadata": {},
   "outputs": [],
   "source": [
    "# 1. Add values to the queue in our `async_sleep_sort` function that's running in the thread\n",
    "\n",
    "async def async_sleep_sort(collection, queue):\n",
    "    tasks = await start_sleeping(collection)\n",
    "    \n",
    "    for task in asyncio.as_completed(tasks):\n",
    "        val = await task\n",
    "        queue.put(val)\n",
    "        "
   ]
  },
  {
   "cell_type": "code",
   "execution_count": 14,
   "id": "0828be01",
   "metadata": {},
   "outputs": [],
   "source": [
    "from queue import Queue\n",
    "\n",
    "# 2. Yield values back from that queue in our synchronous `sleep_sort` generator \n",
    "\n",
    "def sleep_sort(collection):\n",
    "    queue = Queue()\n",
    "    coroutine = async_sleep_sort(collection, queue)\n",
    "    with new_thread(target=asyncio.run, args=(coroutine, )):\n",
    "        for _ in collection:\n",
    "            yield queue.get()\n",
    "            "
   ]
  },
  {
   "cell_type": "markdown",
   "id": "54082bf0",
   "metadata": {},
   "source": [
    "Let's see if it works!"
   ]
  },
  {
   "cell_type": "code",
   "execution_count": 15,
   "id": "edd2ef2a",
   "metadata": {},
   "outputs": [
    {
     "name": "stdout",
     "output_type": "stream",
     "text": [
      "1\n",
      "Generator yielded 1\n",
      "2\n",
      "Generator yielded 2\n",
      "3\n",
      "Generator yielded 3\n",
      "4\n",
      "Generator yielded 4\n",
      "5\n",
      "Generator yielded 5\n"
     ]
    }
   ],
   "source": [
    "for value in sleep_sort(collection):\n",
    "    print(f'Generator yielded {value}')"
   ]
  },
  {
   "cell_type": "markdown",
   "id": "2f8d7769",
   "metadata": {},
   "source": [
    "![It's Working!!](https://media1.tenor.com/images/128fd3a348e0f90d9acea9e57fee72bb/tenor.gif?itemid=4777331 \"chess\")\n",
    "\n",
    "Nice!\n",
    "\n",
    "Notice:\n",
    "- The generator yields the values as soon as they are put in the queue, which happens as each sleep finishes. Perfect.\n",
    "\n",
    "\n",
    "- We're still printing the value from within the `sleep_then_print` function, which is why we see every number come back twice.  \n",
    "We don't really need this anymore, since we can access the returned values as soon as they're ready. So let's remove the `print` and rename accordingly.\n",
    "\n",
    "\n",
    "If we make that change, and put all the code together, here's what we end up with!"
   ]
  },
  {
   "cell_type": "code",
   "execution_count": 16,
   "id": "70229804",
   "metadata": {},
   "outputs": [],
   "source": [
    "import asyncio\n",
    "\n",
    "from contextlib import contextmanager\n",
    "from queue import Queue\n",
    "from threading import Thread\n",
    "\n",
    "\n",
    "async def sleep_then_return(val):\n",
    "    '''Gets called on every item in the list we want to sort'''\n",
    "    await asyncio.sleep(val)\n",
    "    return val\n",
    "\n",
    "\n",
    "async def start_sleeping(collection):\n",
    "    '''Kick off each sleep_then_print task (but don't wait for it to finish)'''\n",
    "    return [\n",
    "        asyncio.create_task(sleep_then_return(val))\n",
    "        for val in collection\n",
    "    ]\n",
    "\n",
    "\n",
    "async def async_sleep_sort(collection, queue):\n",
    "    '''Run the async part of the SleepSort, which adds each item to the queue when it has finished sleeping.\n",
    "    This to be designed to be run inside a thread'''\n",
    "    tasks = await start_sleeping(collection)\n",
    "    \n",
    "    for task in asyncio.as_completed(tasks):\n",
    "        val = await task\n",
    "        queue.put(val)\n",
    "\n",
    "\n",
    "@contextmanager\n",
    "def new_thread(*args, **kwargs):\n",
    "    '''A helper to conveniently make, start, and clean up a Thread'''\n",
    "    t = Thread(*args, **kwargs)\n",
    "    t.start()\n",
    "    try:\n",
    "        yield\n",
    "    finally:\n",
    "        t.join()\n",
    "        \n",
    "        \n",
    "def sleep_sort(collection):\n",
    "    '''The SleepSort Generator which\n",
    "    1. Runs async_sleep_sort in a thread\n",
    "    2. Collects the results from it using a queue\n",
    "    3. Yields them as they are ready'''\n",
    "    queue = Queue()\n",
    "    coroutine = async_sleep_sort(collection, queue)\n",
    "    with new_thread(target=asyncio.run, args=(coroutine, )):\n",
    "        for _ in collection:\n",
    "            yield queue.get()\n",
    "            "
   ]
  },
  {
   "cell_type": "markdown",
   "id": "8a5b3f5c",
   "metadata": {},
   "source": [
    "Let's test"
   ]
  },
  {
   "cell_type": "code",
   "execution_count": 17,
   "id": "c753aaab",
   "metadata": {},
   "outputs": [],
   "source": [
    "# Test sleep_sort() gives the same result as sort()\n",
    "collection = [0.1, 0.4, 0.2, 0.25, 0.3]  # using smaller numbers so SleepSort works faster!\n",
    "assert list(sorted(collection)) == list(sleep_sort(collection))"
   ]
  },
  {
   "cell_type": "code",
   "execution_count": 18,
   "id": "ca077983",
   "metadata": {},
   "outputs": [],
   "source": [
    "# Test sleep_sort() yields values as they are completed\n",
    "import time\n",
    "eps = 0.01\n",
    "start = time.time()\n",
    "\n",
    "for val in sleep_sort(collection):\n",
    "    elapsed = time.time() - start\n",
    "    \n",
    "    assert val - eps < elapsed < val + eps\n",
    "    # e.g. the value \"3\" should be returned after between 2.99 and 3.01 seconds\n",
    "    "
   ]
  },
  {
   "cell_type": "code",
   "execution_count": 19,
   "id": "830219a9",
   "metadata": {},
   "outputs": [],
   "source": [
    "# Test it works with other collections\n",
    "collection = {0.1, 0.4, 0.2, 0.25, 0.3}\n",
    "assert list(sorted(collection)) == list(sleep_sort(collection))\n",
    "\n",
    "collection = (0.1, 0.4, 0.2, 0.25, 0.3)\n",
    "assert list(sorted(collection)) == list(sleep_sort(collection))"
   ]
  },
  {
   "cell_type": "code",
   "execution_count": 20,
   "id": "e5b84ab9",
   "metadata": {},
   "outputs": [],
   "source": [
    "# Test we can sort 50 numbers in a second\n",
    "import random\n",
    "collection = [random.random() for _ in range(50)]\n",
    "assert list(sorted(collection)) == list(sleep_sort(collection))"
   ]
  },
  {
   "cell_type": "markdown",
   "id": "acbc682b",
   "metadata": {},
   "source": [
    "## Limitations"
   ]
  },
  {
   "cell_type": "code",
   "execution_count": 21,
   "id": "31f40ef0",
   "metadata": {},
   "outputs": [
    {
     "ename": "AssertionError",
     "evalue": "",
     "output_type": "error",
     "traceback": [
      "\u001b[0;31m---------------------------------------------------------------------------\u001b[0m",
      "\u001b[0;31mAssertionError\u001b[0m                            Traceback (most recent call last)",
      "\u001b[0;32m<ipython-input-21-0ddcc70ddfb5>\u001b[0m in \u001b[0;36m<module>\u001b[0;34m\u001b[0m\n\u001b[1;32m      1\u001b[0m \u001b[0;31m# Test we can sort 200 numbers in a second\u001b[0m\u001b[0;34m\u001b[0m\u001b[0;34m\u001b[0m\u001b[0;34m\u001b[0m\u001b[0m\n\u001b[1;32m      2\u001b[0m \u001b[0mcollection\u001b[0m \u001b[0;34m=\u001b[0m \u001b[0;34m[\u001b[0m\u001b[0mrandom\u001b[0m\u001b[0;34m.\u001b[0m\u001b[0mrandom\u001b[0m\u001b[0;34m(\u001b[0m\u001b[0;34m)\u001b[0m \u001b[0;32mfor\u001b[0m \u001b[0m_\u001b[0m \u001b[0;32min\u001b[0m \u001b[0mrange\u001b[0m\u001b[0;34m(\u001b[0m\u001b[0;36m100\u001b[0m\u001b[0;34m)\u001b[0m\u001b[0;34m]\u001b[0m\u001b[0;34m\u001b[0m\u001b[0;34m\u001b[0m\u001b[0m\n\u001b[0;32m----> 3\u001b[0;31m \u001b[0;32massert\u001b[0m \u001b[0mlist\u001b[0m\u001b[0;34m(\u001b[0m\u001b[0msorted\u001b[0m\u001b[0;34m(\u001b[0m\u001b[0mcollection\u001b[0m\u001b[0;34m)\u001b[0m\u001b[0;34m)\u001b[0m \u001b[0;34m==\u001b[0m \u001b[0mlist\u001b[0m\u001b[0;34m(\u001b[0m\u001b[0msleep_sort\u001b[0m\u001b[0;34m(\u001b[0m\u001b[0mcollection\u001b[0m\u001b[0;34m)\u001b[0m\u001b[0;34m)\u001b[0m\u001b[0;34m\u001b[0m\u001b[0;34m\u001b[0m\u001b[0m\n\u001b[0m",
      "\u001b[0;31mAssertionError\u001b[0m: "
     ]
    }
   ],
   "source": [
    "# Test we can sort 200 numbers in a second\n",
    "collection = [random.random() for _ in range(100)]\n",
    "assert list(sorted(collection)) == list(sleep_sort(collection))"
   ]
  },
  {
   "cell_type": "markdown",
   "id": "8889c6d7",
   "metadata": {},
   "source": [
    "So... It works when I try to sort 50 numbers between 0 and 1  \n",
    "...but fails when I try to sort 100.\n",
    "\n",
    "Why?\n",
    "\n",
    "It's because our `sleep_then_return` coroutines don't start at exactly the same instant.  \n",
    "This happens because it takes time for python code to run, and every call to every function has an overhead associated with it.\n",
    "\n",
    "\n",
    "Therefore, if two values in our collection are too close together, we could have a situation where the overhead is larger than the difference in sleep time, which messes up our return sequence and our SleepSort!\n",
    "\n",
    "BUT! I have a clever idea. What if we multiply all values by 10, then they won't be so close together!"
   ]
  },
  {
   "cell_type": "code",
   "execution_count": 22,
   "id": "aa4fc134",
   "metadata": {},
   "outputs": [],
   "source": [
    "collection = [10*random.random() for _ in range(100)]\n",
    "assert list(sorted(collection)) == list(sleep_sort(collection))"
   ]
  },
  {
   "cell_type": "markdown",
   "id": "a0fa3d39",
   "metadata": {},
   "source": [
    "Great, it works! (most of the time...)\n",
    "\n",
    "But it also takes 10x longer to run...\n",
    "\n",
    "## The Tradeoff\n",
    "\n",
    "SleepSort has this interesting property. Its run-time is the largest value (plus a small overhead).  \n",
    "- So if I want to sort 10 numbers between 0 and 1, It takes up to a second \n",
    "- But if I want to sort 10 numbers between 0 and 10, it takes up to 10 seconds\n",
    "\n",
    "The immediately obvious conclusion is \n",
    ">\"oh wow, I could sort a trillion numbers in a second, I just have to scale them so they're all between 0 and 1\"\n",
    "\n",
    "Unfortunately, it doesn't work due to that overhead.\n",
    "\n",
    "And this is interesting in a few ways:\n",
    "1. If we want to sort more numbers (or if some of them are closer together), we can make it work by scaling them up and increasing the time.\n",
    "2. It's not just a question of \"does it work\", it's also a question of \"how sorted do we want it?\"."
   ]
  },
  {
   "cell_type": "code",
   "execution_count": 23,
   "id": "4ab0cc42",
   "metadata": {},
   "outputs": [
    {
     "data": {
      "text/plain": [
       "[2.48e-05,\n",
       " 3.13e-05,\n",
       " 7.35e-05,\n",
       " 0.0001389,\n",
       " 0.0001567,\n",
       " 0.0002114,\n",
       " 0.0005403,\n",
       " 0.000498,\n",
       " 0.000534,\n",
       " 0.0006107,\n",
       " 0.0006768,\n",
       " 0.000951,\n",
       " 0.0009915,\n",
       " 0.0013523,\n",
       " 0.0015502,\n",
       " 0.0016292,\n",
       " 0.0017214,\n",
       " 0.0017219,\n",
       " 0.0018098,\n",
       " 0.0019651]"
      ]
     },
     "execution_count": 23,
     "metadata": {},
     "output_type": "execute_result"
    }
   ],
   "source": [
    "collection = [\n",
    "    0.0005403, 0.0000248, 0.0018098, 0.0017214, 0.0006107, \n",
    "    0.0017219, 0.0001389, 0.0004980, 0.0013523, 0.0001567, \n",
    "    0.0009915, 0.0005340, 0.0000735, 0.0009510, 0.0015502, \n",
    "    0.0000313, 0.0002114, 0.0016292, 0.0006768, 0.0019651,\n",
    "]\n",
    "[val for val in sleep_sort(collection)]"
   ]
  },
  {
   "cell_type": "markdown",
   "id": "752cc410",
   "metadata": {},
   "source": [
    "Here's one example output (one time when I ran the above script... it's different every time)\n",
    "![image.png](almost_sorted.png \"image\")\n",
    "We can see that this list is *almost* sorted, but not quite.\n",
    "\n",
    "If we multiplied these values by 100, it would be perfectly sorted, but would take longer.\n",
    "\n",
    "Therefore, we have an interesting tradeoff.\n",
    "\n",
    "### Correctness vs Performance\n",
    "\n",
    "SleepSort gives us this kind of *lever*, which allows us to trade off correctness against performance.\n",
    "- We can run it slowly to be sure that the result is correct  \n",
    "   OR\n",
    "- We can run it fast and get a \"rough\" answer quickly.\n",
    "\n",
    "Interesting.\n",
    "\n",
    "But it had me thinking. Why do we need to sleep the full amount of time... isn't there some shortcut way to just figure out the next sleep to finish, and return it immediately? That would be heaps better!\n",
    "\n",
    "It turns out there is. But unfortunately it's not quite the holy grail I had imagined...\n",
    "\n",
    "## Heaps better\n",
    ">...some shortcut way to just figure out the next sleep to finish...\n",
    "\n",
    "It turns out this *shortcut way* is just called *sorting*. Bugger.\n",
    "\n",
    "Let's take a look anyway.\n",
    "\n",
    "The most intuitive idea is to use something called a **Priority Queue**.\n",
    "\n",
    "Basically, you add elements into a Queue. But instead of them coming out in the order they went in (FIFO), they come out in the order that you **prioritise** them to come out in.\n",
    "\n",
    "With Priority Queues, **prioritising** the elements just means you assign a number to how high priority each element is.  \n",
    "So with our list we want to sort, we can set the priority of each element to its value, analogously to how we set its sleep time to its value in SleepSort.\n",
    "\n",
    "So, if we wanted to sort a collection of elements, we could:\n",
    "1. Add the elements to a Priority Queue\n",
    "2. Take elements from the Priority Queue in order of priority\n",
    "\n",
    "The whole reason why this works, and is pretty fast, is because [Priority Queues are implemented using Heaps](https://course.ccs.neu.edu/cs2510h/lecture29.html), which is a type of binary tree where the *Heap Invariant* holds. It just means that the tree is constructed in a special way where every parent node has a higher value than its children.\n",
    "\n",
    "So, as it turns out, this sort algorithm is called HeapSort.  \n",
    "*And*, it has the added advantage of not needing to run concurrently.\n",
    "\n",
    "Let's check it out"
   ]
  },
  {
   "cell_type": "code",
   "execution_count": 24,
   "id": "83f297a7",
   "metadata": {},
   "outputs": [],
   "source": [
    "from queue import PriorityQueue\n",
    "\n",
    "pqueue = PriorityQueue()\n",
    "\n",
    "collection = [3, 2, 5, 4, 1]\n",
    "\n",
    "for item in collection:\n",
    "    pqueue.put(item)\n",
    "    \n",
    "output = [pqueue.get() for _ in collection]\n",
    "\n",
    "assert output == list(sorted(collection))"
   ]
  },
  {
   "cell_type": "markdown",
   "id": "bc9d025a",
   "metadata": {},
   "source": [
    "Simple!\n",
    "\n",
    "## Async Geocoding\n",
    "So, after this exploration, will we switch to async geocoding?  \n",
    "**Probably not.**\n",
    "\n",
    "- It works fine as it is\n",
    "- There is negligible performance upside to changing\n",
    "- It's not a plug-and-play change - we would need to change our geocoding code to make async requests etc\n",
    "\n",
    "\n",
    "If we were to rewrite it from scratch though, I think we would have a different answer."
   ]
  }
 ],
 "metadata": {
  "kernelspec": {
   "display_name": "Python 3",
   "language": "python",
   "name": "python3"
  },
  "language_info": {
   "codemirror_mode": {
    "name": "ipython",
    "version": 3
   },
   "file_extension": ".py",
   "mimetype": "text/x-python",
   "name": "python",
   "nbconvert_exporter": "python",
   "pygments_lexer": "ipython3",
   "version": "3.8.2"
  }
 },
 "nbformat": 4,
 "nbformat_minor": 5
}
