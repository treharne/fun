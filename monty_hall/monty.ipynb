{
 "cells": [
  {
   "cell_type": "markdown",
   "id": "a5b249e7",
   "metadata": {},
   "source": [
    "# A numeric approach to the Monty Hall problem\n",
    "\n",
    "The Monty Hall problem is famous in the world of probability\n",
    "\n",
    "\n",
    "> You're playing a gameshow, and the host asks you to choose one of three doors.\n",
    ">\n",
    "> Behind one door is a car, and the other two doors have goats. You win whatever you choose!\n",
    ">\n",
    "> Once you have chosen a door, the host\n",
    "> 1. Removes one of doors that you didn't choose (but he will never remove the car), then\n",
    "> 2. Gives you the option to change your choice of door.\n",
    ">\n",
    "> Should you change? Does it matter?\n",
    "\n",
    "Let's set up the problem"
   ]
  },
  {
   "cell_type": "code",
   "execution_count": 1,
   "id": "8618e0f7",
   "metadata": {},
   "outputs": [],
   "source": [
    "GOAT = 'goat'\n",
    "CAR = 'car'\n",
    "DOORS = (0, 1, 2)\n",
    "AVAILABLE_PRIZES = (GOAT, GOAT, CAR)"
   ]
  },
  {
   "cell_type": "markdown",
   "id": "8d1d5efc",
   "metadata": {},
   "source": [
    "## Let's Play\n",
    "\n",
    "First, we need to arrange our car and goats behind some doors"
   ]
  },
  {
   "cell_type": "code",
   "execution_count": 2,
   "id": "83a30c0a",
   "metadata": {},
   "outputs": [],
   "source": [
    "import random\n",
    "\n",
    "def make_prizes():\n",
    "    return random.sample(AVAILABLE_PRIZES, 3)\n",
    "\n",
    "prizes = make_prizes()"
   ]
  },
  {
   "cell_type": "markdown",
   "id": "21d98d60",
   "metadata": {},
   "source": [
    "No, I'm not going to *show you them!!!!*  That's not how this game works!  \n",
    "\n",
    "But it looks something like `[GOAT, GOAT, CAR]` or some permutation of that list.\n",
    "\n",
    "\n",
    "And we need a way to know if you win or not!"
   ]
  },
  {
   "cell_type": "code",
   "execution_count": 3,
   "id": "13ad3dae",
   "metadata": {},
   "outputs": [],
   "source": [
    "def its_a_carrrrr(door, prizes):\n",
    "    return prizes[door] is CAR"
   ]
  },
  {
   "cell_type": "markdown",
   "id": "0eef123d",
   "metadata": {},
   "source": [
    "So now it's time to choose a door"
   ]
  },
  {
   "cell_type": "code",
   "execution_count": 4,
   "id": "5f46fce1",
   "metadata": {},
   "outputs": [
    {
     "data": {
      "text/plain": [
       "2"
      ]
     },
     "execution_count": 4,
     "metadata": {},
     "output_type": "execute_result"
    }
   ],
   "source": [
    "def choose_door():\n",
    "    return random.choice(DOORS)\n",
    "\n",
    "first_choice = choose_door()\n",
    "first_choice"
   ]
  },
  {
   "cell_type": "markdown",
   "id": "cfa66147",
   "metadata": {},
   "source": [
    "If you don't like the idea of Python choosing randomly for you, please be my guest and set\n",
    "\n",
    "`first_choice = 0` (or 1 or 2)"
   ]
  },
  {
   "cell_type": "markdown",
   "id": "e932d0f6",
   "metadata": {},
   "source": [
    "## The Great Removal\n",
    "Then the host has to remove a door.\n",
    "\n",
    "Implementing this code really helped me to understand the nuance in the Monty Hall Problem.\n",
    "\n",
    "It has to do with how the host decides which door to remove..."
   ]
  },
  {
   "cell_type": "code",
   "execution_count": 5,
   "id": "2f1977a6",
   "metadata": {},
   "outputs": [],
   "source": [
    "def is_removable(door, first_choice, prizes):\n",
    "    '''\n",
    "    Remember the host isn't allowed to remove \n",
    "     - the door with the car behind it, or\n",
    "     - the door you chose at the start.\n",
    "     \n",
    "     (and maybe that's the same door!)\n",
    "     '''\n",
    "    return door is not first_choice \\\n",
    "       and prizes[door] is not CAR\n",
    "\n",
    "def find_removable_doors(first_choice, prizes):\n",
    "    ''' \n",
    "    There's something interesting here...\n",
    "    \n",
    "    When player chooses the car first go, \n",
    "        the host has the *choice* of two goats he could remove.\n",
    "        \n",
    "    However, when the player chooses a goat first go,\n",
    "        the host has no choice, he *must* remove the other goat\n",
    "    '''\n",
    "    return [\n",
    "        door for door in DOORS\n",
    "        if is_removable(door, first_choice, prizes)\n",
    "    ]\n",
    "\n",
    "def remove_a_door(first_choice, prizes):\n",
    "    '''\n",
    "    So the host's random choice of removable doors isn't always random.\n",
    "    Two thirds of the time (when the player chose a goat on their first choice), \n",
    "    the host removes the only door he's allowed to remove (the other goat).\n",
    "    '''\n",
    "    removable_doors = find_removable_doors(first_choice, prizes)\n",
    "    return random.choice(removable_doors)\n",
    "\n",
    "def remaining(first_choice, removed_door):\n",
    "    return next(door for door in DOORS\n",
    "                if door is not first_choice\n",
    "                and door is not removed_door)\n"
   ]
  },
  {
   "cell_type": "markdown",
   "id": "fb54dc76",
   "metadata": {},
   "source": [
    "*Interesting that the host doesn't always have a choice which door he removes... huh...*\n",
    "\n",
    "Which door did he remove this time?"
   ]
  },
  {
   "cell_type": "code",
   "execution_count": 6,
   "id": "767d6834",
   "metadata": {},
   "outputs": [
    {
     "data": {
      "text/plain": [
       "0"
      ]
     },
     "execution_count": 6,
     "metadata": {},
     "output_type": "execute_result"
    }
   ],
   "source": [
    "removed_door = remove_a_door(first_choice, prizes)\n",
    "removed_door"
   ]
  },
  {
   "cell_type": "markdown",
   "id": "3b28c839",
   "metadata": {},
   "source": [
    "Which leaves one remaining door - the door that is not chosen and not removed."
   ]
  },
  {
   "cell_type": "code",
   "execution_count": 7,
   "id": "3ec47da0",
   "metadata": {},
   "outputs": [
    {
     "data": {
      "text/plain": [
       "1"
      ]
     },
     "execution_count": 7,
     "metadata": {},
     "output_type": "execute_result"
    }
   ],
   "source": [
    "the_other_door = remaining(first_choice, removed_door)\n",
    "the_other_door"
   ]
  },
  {
   "cell_type": "markdown",
   "id": "69974ebe",
   "metadata": {},
   "source": [
    "So now you have the choice.\n"
   ]
  },
  {
   "cell_type": "code",
   "execution_count": 8,
   "id": "1f7ef5da",
   "metadata": {},
   "outputs": [
    {
     "name": "stdout",
     "output_type": "stream",
     "text": [
      "Did you stay with your first choice? It's a goat - Happy Grazing <3\n",
      "Or did you change your mind? Wooohoooooo you won a car!!!!!\n"
     ]
    }
   ],
   "source": [
    "def announce_outcome(prizes, door):\n",
    "    if its_a_carrrrr(door, prizes):\n",
    "        print(f'Wooohoooooo you won a {CAR}!!!!!')\n",
    "    else:\n",
    "        print(f\"It's a {GOAT} - Happy Grazing <3\")\n",
    "\n",
    "print('Did you stay with your first choice?', end=' ')\n",
    "announce_outcome(prizes, door=first_choice)\n",
    "\n",
    "print('Or did you change your mind?', end=' ')\n",
    "announce_outcome(prizes, door=the_other_door)"
   ]
  },
  {
   "cell_type": "markdown",
   "id": "ca898e0d",
   "metadata": {},
   "source": [
    "## The Monty Hallway\n",
    "\n",
    "So now we played the game once.\n",
    "\n",
    "To really test whether it's better to stay with your first choice or not, we'd better play a few more times.\n",
    " \n",
    "First, let's make a function to play the whole game"
   ]
  },
  {
   "cell_type": "code",
   "execution_count": 9,
   "id": "b7e73424",
   "metadata": {},
   "outputs": [],
   "source": [
    "def play_monty_hall(change):\n",
    "    prizes = make_prizes()\n",
    "    first_choice = choose_door()\n",
    "    removed_door = remove_a_door(first_choice, prizes)\n",
    "    the_other_door = remaining(first_choice, removed_door)\n",
    "    final_choice = the_other_door if change else first_choice\n",
    "    return its_a_carrrrr(final_choice, prizes)"
   ]
  },
  {
   "cell_type": "markdown",
   "id": "445df6d6",
   "metadata": {},
   "source": [
    "Will you win this time without changing?"
   ]
  },
  {
   "cell_type": "code",
   "execution_count": 10,
   "id": "6f39ff5c",
   "metadata": {},
   "outputs": [
    {
     "data": {
      "text/plain": [
       "False"
      ]
     },
     "execution_count": 10,
     "metadata": {},
     "output_type": "execute_result"
    }
   ],
   "source": [
    "play_monty_hall(change=False)"
   ]
  },
  {
   "cell_type": "markdown",
   "id": "401cf465",
   "metadata": {},
   "source": [
    "And how about now, changing your mind?"
   ]
  },
  {
   "cell_type": "code",
   "execution_count": 11,
   "id": "6c107f81",
   "metadata": {},
   "outputs": [
    {
     "data": {
      "text/plain": [
       "True"
      ]
     },
     "execution_count": 11,
     "metadata": {},
     "output_type": "execute_result"
    }
   ],
   "source": [
    "play_monty_hall(change=True)"
   ]
  },
  {
   "cell_type": "markdown",
   "id": "012666f5",
   "metadata": {},
   "source": [
    "Okay so it works.\n",
    "\n",
    "Time to test the strategies.\n",
    "\n",
    "How many times should we play with each strategy?"
   ]
  },
  {
   "cell_type": "code",
   "execution_count": 12,
   "id": "f7d1838e",
   "metadata": {},
   "outputs": [],
   "source": [
    "n_trials = 10000"
   ]
  },
  {
   "cell_type": "markdown",
   "id": "6f0e961b",
   "metadata": {},
   "source": [
    "Let's play!"
   ]
  },
  {
   "cell_type": "code",
   "execution_count": 13,
   "id": "76aff11e",
   "metadata": {},
   "outputs": [],
   "source": [
    "wins_without_change = sum(play_monty_hall(change=False) for _ in range(n_trials))\n",
    "wins_with_change = sum(play_monty_hall(change=True) for _ in range(n_trials))"
   ]
  },
  {
   "cell_type": "code",
   "execution_count": 14,
   "id": "481bd3a6",
   "metadata": {},
   "outputs": [
    {
     "name": "stdout",
     "output_type": "stream",
     "text": [
      "Wins without change 3394, 33.94%\n",
      "Wins with change 6637, 66.37%\n"
     ]
    }
   ],
   "source": [
    "print(f'Wins without change {wins_without_change}, {100*wins_without_change/n_trials}%')\n",
    "print(f'Wins with change {wins_with_change}, {100*wins_with_change/n_trials}%')"
   ]
  },
  {
   "cell_type": "markdown",
   "id": "edd658cf",
   "metadata": {},
   "source": [
    "So it seems like changing is a much better strategy!\n",
    "\n",
    "Here's the final code"
   ]
  },
  {
   "cell_type": "code",
   "execution_count": 15,
   "id": "8da5558e",
   "metadata": {},
   "outputs": [
    {
     "name": "stdout",
     "output_type": "stream",
     "text": [
      "Wins without change 33165, 33.165%\n",
      "Wins with change 66677, 66.677%\n"
     ]
    }
   ],
   "source": [
    "import random\n",
    "\n",
    "\n",
    "GOAT = 'goat'\n",
    "CAR = 'car'\n",
    "DOORS = (0, 1, 2)\n",
    "AVAILABLE_PRIZES = (GOAT, GOAT, CAR)\n",
    "\n",
    "\n",
    "def make_prizes():\n",
    "    return random.sample(AVAILABLE_PRIZES, 3)\n",
    "\n",
    "def choose_door():\n",
    "    return random.choice(DOORS)\n",
    "\n",
    "def is_removable(door, first_choice, prizes):\n",
    "    return door is not first_choice \\\n",
    "       and prizes[door] is not CAR\n",
    "\n",
    "def remove_a_door(first_choice, prizes):\n",
    "    removable_doors = [door for door in DOORS if is_removable(door, first_choice, prizes)]\n",
    "    return random.choice(removable_doors)\n",
    "\n",
    "def remaining(first_choice, removed_door):\n",
    "    return next(door for door in DOORS\n",
    "                if door is not first_choice\n",
    "                and door is not removed_door)\n",
    "\n",
    "def its_a_carrrrr(door, prizes):\n",
    "    return prizes[door] is CAR\n",
    "\n",
    "def play_monty_hall(change):\n",
    "    prizes = make_prizes()\n",
    "    first_choice = choose_door()\n",
    "    removed_door = remove_a_door(first_choice, prizes)\n",
    "    the_other_door = remaining(first_choice, removed_door)\n",
    "    final_choice = the_other_door if change else first_choice\n",
    "    return its_a_carrrrr(final_choice, prizes)\n",
    "\n",
    "def compare_strategies(n_trials=1000):\n",
    "    wins_without_change = sum(play_monty_hall(change=False) for _ in range(n_trials))\n",
    "    wins_with_change = sum(play_monty_hall(change=True) for _ in range(n_trials))\n",
    "    return (\n",
    "        f'Wins without change {wins_without_change}, {100*wins_without_change/n_trials}%'\n",
    "        '\\n'\n",
    "        f'Wins with change {wins_with_change}, {100*wins_with_change/n_trials}%'\n",
    "    )\n",
    "    \n",
    "print(compare_strategies(100000))"
   ]
  }
 ],
 "metadata": {
  "kernelspec": {
   "display_name": "Python 3",
   "language": "python",
   "name": "python3"
  },
  "language_info": {
   "codemirror_mode": {
    "name": "ipython",
    "version": 3
   },
   "file_extension": ".py",
   "mimetype": "text/x-python",
   "name": "python",
   "nbconvert_exporter": "python",
   "pygments_lexer": "ipython3",
   "version": "3.8.2"
  }
 },
 "nbformat": 4,
 "nbformat_minor": 5
}
