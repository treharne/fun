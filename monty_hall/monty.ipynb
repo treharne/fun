{
 "cells": [
  {
   "cell_type": "markdown",
   "id": "a5b249e7",
   "metadata": {},
   "source": [
    "# A numeric approach to the Monty Hall problem\n",
    "\n",
    "The Monty Hall problem is famous in the world of probability\n",
    "\n",
    "\n",
    "> You're playing a gameshow, and the host asks you to choose one of three doors.\n",
    ">\n",
    "> Behind one door is a car, and the other two doors have goats. You win whatever you choose!\n",
    ">\n",
    "> Once you have chosen a door, the host\n",
    "> 1. Removes one of doors that you didn't choose (but he will never remove the car), then\n",
    "> 2. Gives you the option to change your choice of door.\n",
    ">\n",
    "> Should you change? Does it matter?\n",
    "\n",
    "Let's set up the problem"
   ]
  },
  {
   "cell_type": "code",
   "execution_count": 1,
   "id": "8618e0f7",
   "metadata": {},
   "outputs": [
    {
     "data": {
      "text/plain": [
       "['goat', 'car', 'goat']"
      ]
     },
     "execution_count": 1,
     "metadata": {},
     "output_type": "execute_result"
    }
   ],
   "source": [
    "import random\n",
    "\n",
    "GOAT = 'goat'\n",
    "CAR = 'car'\n",
    "DOORS = (0, 1, 2)\n",
    "AVAILABLE_PRIZES = (GOAT, GOAT, CAR)\n",
    "\n",
    "def make_prizes():\n",
    "    return random.sample(AVAILABLE_PRIZES, 3)\n",
    "\n",
    "prizes = make_prizes()\n",
    "prizes"
   ]
  },
  {
   "cell_type": "markdown",
   "id": "0eef123d",
   "metadata": {},
   "source": [
    "Now we have the prizes behind each door set.\n",
    "\n",
    "So let's choose a door."
   ]
  },
  {
   "cell_type": "code",
   "execution_count": 2,
   "id": "5f46fce1",
   "metadata": {},
   "outputs": [
    {
     "data": {
      "text/plain": [
       "0"
      ]
     },
     "execution_count": 2,
     "metadata": {},
     "output_type": "execute_result"
    }
   ],
   "source": [
    "def choose_door():\n",
    "    return random.choice(DOORS)\n",
    "\n",
    "chosen_door = choose_door()\n",
    "chosen_door"
   ]
  },
  {
   "cell_type": "markdown",
   "id": "e932d0f6",
   "metadata": {},
   "source": [
    "Now the host will remove a door"
   ]
  },
  {
   "cell_type": "code",
   "execution_count": 3,
   "id": "2f1977a6",
   "metadata": {},
   "outputs": [
    {
     "data": {
      "text/plain": [
       "1"
      ]
     },
     "execution_count": 3,
     "metadata": {},
     "output_type": "execute_result"
    }
   ],
   "source": [
    "def is_removable(door, chosen_door, prizes):\n",
    "    '''Remember, the host isn't allowed to remove the door \n",
    "    with the car behind it.'''\n",
    "    return door is not chosen_door \\\n",
    "       and prizes[door] is not CAR\n",
    "\n",
    "def find_removable_doors(chosen_door, prizes):\n",
    "    ''' \n",
    "    There's something interesting here \n",
    "    \n",
    "    When player chooses the car first go, \n",
    "        the host has two goats he could remove.\n",
    "        \n",
    "    However, when the player chooses a goat first go,\n",
    "        the host has no choice, he *must* remove the other goat\n",
    "    '''\n",
    "    return [\n",
    "        door for door in DOORS\n",
    "        if is_removable(door, chosen_door, prizes)\n",
    "    ]\n",
    "\n",
    "def choose_door_to_remove(chosen_door, prizes):\n",
    "    '''\n",
    "    So the host's random choice of removable doors isn't always random.\n",
    "    One third of the time (when the player was right first go), the host\n",
    "    removes the only door he's allowed to remove.\n",
    "    '''\n",
    "    removable_doors = find_removable_doors(chosen_door, prizes)\n",
    "    return random.choice(removable_doors)\n",
    "\n",
    "def remaining(chosen_door, removed_door):\n",
    "    return next(door for door in DOORS\n",
    "                if door is not chosen_door\n",
    "                and door is not removed_door)\n",
    "\n",
    "removed_door = choose_door_to_remove(chosen_door, prizes)\n",
    "remaining_door = remaining(chosen_door, removed_door)\n",
    "remaining_door"
   ]
  },
  {
   "cell_type": "markdown",
   "id": "69974ebe",
   "metadata": {},
   "source": [
    "So now you have the choice.\n",
    "\n",
    "Do you change your mind?"
   ]
  },
  {
   "cell_type": "code",
   "execution_count": 4,
   "id": "2ac3a59c",
   "metadata": {},
   "outputs": [],
   "source": [
    "def you_won(door, prizes):\n",
    "    return prizes[door] is CAR\n",
    "\n",
    "def announce_outcome(door, prizes):\n",
    "    if you_won(door, prizes):\n",
    "        print(f'Congrats, you won a {CAR}!')\n",
    "    else:\n",
    "        print(f'Looks like you won a {GOAT}.')"
   ]
  },
  {
   "cell_type": "code",
   "execution_count": 5,
   "id": "1f7ef5da",
   "metadata": {},
   "outputs": [
    {
     "name": "stdout",
     "output_type": "stream",
     "text": [
      "Did you change your mind?\n",
      "Looks like you won a goat.\n"
     ]
    }
   ],
   "source": [
    "print('Did you change your mind?')\n",
    "final_chosen_door = chosen_door\n",
    "announce_outcome(final_chosen_door, prizes)"
   ]
  },
  {
   "cell_type": "code",
   "execution_count": 6,
   "id": "9bbe4bf5",
   "metadata": {},
   "outputs": [
    {
     "name": "stdout",
     "output_type": "stream",
     "text": [
      "Or did you stay with your first choice?\n",
      "Congrats, you won a car!\n"
     ]
    }
   ],
   "source": [
    "print('Or did you stay with your first choice?')\n",
    "final_chosen_door = remaining_door\n",
    "announce_outcome(final_chosen_door, prizes)"
   ]
  },
  {
   "cell_type": "markdown",
   "id": "ca898e0d",
   "metadata": {},
   "source": [
    "What if we want to try a thousand times?  \n",
    "First, let's make a function to play the whole game"
   ]
  },
  {
   "cell_type": "code",
   "execution_count": 7,
   "id": "b7e73424",
   "metadata": {},
   "outputs": [
    {
     "name": "stdout",
     "output_type": "stream",
     "text": [
      "Won with change? False\n",
      "Won without change? False\n"
     ]
    }
   ],
   "source": [
    "def play_monty_hall(change):\n",
    "    prizes = make_prizes()\n",
    "    chosen_door = choose_door()\n",
    "    removed_door = choose_door_to_remove(chosen_door, prizes)\n",
    "    alternative_door = remaining(chosen_door, removed_door)\n",
    "    chosen_door = alternative_door if change else chosen_door\n",
    "    return you_won(chosen_door, prizes)\n",
    "\n",
    "won_without_change = play_monty_hall(change=False)\n",
    "won_with_change = play_monty_hall(change=True)\n",
    "\n",
    "print('Won with change?', won_with_change)\n",
    "print('Won without change?', won_without_change)"
   ]
  },
  {
   "cell_type": "markdown",
   "id": "012666f5",
   "metadata": {},
   "source": [
    "Time to test the strategies"
   ]
  },
  {
   "cell_type": "code",
   "execution_count": 8,
   "id": "f7d1838e",
   "metadata": {},
   "outputs": [
    {
     "name": "stdout",
     "output_type": "stream",
     "text": [
      "Wins without change 3422, 34.22%\n"
     ]
    }
   ],
   "source": [
    "n_trials = 10000\n",
    "wins_without_change = sum(play_monty_hall(change=False) for _ in range(n_trials))\n",
    "print(f'Wins without change {wins_without_change}, {100*wins_without_change/n_trials}%')"
   ]
  },
  {
   "cell_type": "code",
   "execution_count": 9,
   "id": "481bd3a6",
   "metadata": {},
   "outputs": [
    {
     "name": "stdout",
     "output_type": "stream",
     "text": [
      "Wins with change 6696, 66.96%\n"
     ]
    }
   ],
   "source": [
    "wins_with_change = sum(play_monty_hall(change=True) for _ in range(n_trials))\n",
    "print(f'Wins with change {wins_with_change}, {100*wins_with_change/n_trials}%')"
   ]
  },
  {
   "cell_type": "markdown",
   "id": "edd658cf",
   "metadata": {},
   "source": [
    "So it seems like changing is a much better strategy!\n",
    "\n",
    "Here's the final code"
   ]
  },
  {
   "cell_type": "code",
   "execution_count": 10,
   "id": "8da5558e",
   "metadata": {},
   "outputs": [
    {
     "name": "stdout",
     "output_type": "stream",
     "text": [
      "Wins without change 33304, 33.304%\n",
      "Wins with change 66540, 66.54%\n"
     ]
    }
   ],
   "source": [
    "import random\n",
    "\n",
    "\n",
    "GOAT = 'goat'\n",
    "CAR = 'car'\n",
    "DOORS = (0, 1, 2)\n",
    "AVAILABLE_PRIZES = (GOAT, GOAT, CAR)\n",
    "\n",
    "\n",
    "def make_prizes():\n",
    "    return random.sample(AVAILABLE_PRIZES, 3)\n",
    "\n",
    "def choose_door():\n",
    "    return random.choice(DOORS)\n",
    "\n",
    "def is_removable(door, chosen_door, prizes):\n",
    "    return door is not chosen_door \\\n",
    "       and prizes[door] is not CAR\n",
    "\n",
    "def choose_door_to_remove(chosen_door, prizes):\n",
    "    removable_doors = [door for door in DOORS if is_removable(door, chosen_door, prizes)]\n",
    "    return random.choice(removable_doors)\n",
    "\n",
    "def remaining(chosen_door, removed_door):\n",
    "    return next(door for door in DOORS\n",
    "                if door is not chosen_door\n",
    "                and door is not removed_door)\n",
    "\n",
    "def you_won(door, prizes):\n",
    "    return prizes[door] is CAR\n",
    "\n",
    "def play_monty_hall(change):\n",
    "    prizes = make_prizes()\n",
    "    chosen_door = choose_door()\n",
    "    removed_door = choose_door_to_remove(chosen_door, prizes)\n",
    "    alternative_door = remaining(chosen_door, removed_door)\n",
    "    chosen_door = alternative_door if change else chosen_door\n",
    "    return you_won(chosen_door, prizes)\n",
    "\n",
    "\n",
    "def compare_strategies(n_trials=1000):\n",
    "    wins_without_change = sum(play_monty_hall(change=False) for _ in range(n_trials))\n",
    "    wins_with_change = sum(play_monty_hall(change=True) for _ in range(n_trials))\n",
    "    return (\n",
    "        f'Wins without change {wins_without_change}, {100*wins_without_change/n_trials}%'\n",
    "        '\\n'\n",
    "        f'Wins with change {wins_with_change}, {100*wins_with_change/n_trials}%'\n",
    "    )\n",
    "    \n",
    "print(compare_strategies(100000))"
   ]
  }
 ],
 "metadata": {
  "kernelspec": {
   "display_name": "Python 3",
   "language": "python",
   "name": "python3"
  },
  "language_info": {
   "codemirror_mode": {
    "name": "ipython",
    "version": 3
   },
   "file_extension": ".py",
   "mimetype": "text/x-python",
   "name": "python",
   "nbconvert_exporter": "python",
   "pygments_lexer": "ipython3",
   "version": "3.8.2"
  }
 },
 "nbformat": 4,
 "nbformat_minor": 5
}
